{
  "cells": [
    {
      "cell_type": "code",
      "execution_count": 1,
      "metadata": {
        "colab": {
          "base_uri": "https://localhost:8080/"
        },
        "id": "zIDSyPRzVmPu",
        "outputId": "caa85515-d491-41ef-ade5-4a2980f44fe2"
      },
      "outputs": [
        {
          "ename": "ImportError",
          "evalue": "Traceback (most recent call last):\n  File \"c:\\Users\\LENOVO\\AppData\\Local\\Programs\\Python\\Python311\\Lib\\site-packages\\tensorflow\\python\\pywrap_tensorflow.py\", line 73, in <module>\n    from tensorflow.python._pywrap_tensorflow_internal import *\nImportError: DLL load failed while importing _pywrap_tensorflow_internal: A dynamic link library (DLL) initialization routine failed.\n\n\nFailed to load the native TensorFlow runtime.\nSee https://www.tensorflow.org/install/errors for some common causes and solutions.\nIf you need help, create an issue at https://github.com/tensorflow/tensorflow/issues and include the entire stack trace above this error message.",
          "output_type": "error",
          "traceback": [
            "\u001b[1;31m---------------------------------------------------------------------------\u001b[0m",
            "\u001b[1;31mImportError\u001b[0m                               Traceback (most recent call last)",
            "File \u001b[1;32mc:\\Users\\LENOVO\\AppData\\Local\\Programs\\Python\\Python311\\Lib\\site-packages\\tensorflow\\python\\pywrap_tensorflow.py:73\u001b[0m\n\u001b[0;32m     72\u001b[0m \u001b[38;5;28;01mtry\u001b[39;00m:\n\u001b[1;32m---> 73\u001b[0m   \u001b[38;5;28;01mfrom\u001b[39;00m \u001b[38;5;21;01mtensorflow\u001b[39;00m\u001b[38;5;21;01m.\u001b[39;00m\u001b[38;5;21;01mpython\u001b[39;00m\u001b[38;5;21;01m.\u001b[39;00m\u001b[38;5;21;01m_pywrap_tensorflow_internal\u001b[39;00m \u001b[38;5;28;01mimport\u001b[39;00m \u001b[38;5;241m*\u001b[39m\n\u001b[0;32m     74\u001b[0m \u001b[38;5;66;03m# This try catch logic is because there is no bazel equivalent for py_extension.\u001b[39;00m\n\u001b[0;32m     75\u001b[0m \u001b[38;5;66;03m# Externally in opensource we must enable exceptions to load the shared object\u001b[39;00m\n\u001b[0;32m     76\u001b[0m \u001b[38;5;66;03m# by exposing the PyInit symbols with pybind. This error will only be\u001b[39;00m\n\u001b[0;32m     77\u001b[0m \u001b[38;5;66;03m# caught internally or if someone changes the name of the target _pywrap_tensorflow_internal.\u001b[39;00m\n\u001b[0;32m     78\u001b[0m \n\u001b[0;32m     79\u001b[0m \u001b[38;5;66;03m# This logic is used in other internal projects using py_extension.\u001b[39;00m\n",
            "\u001b[1;31mImportError\u001b[0m: DLL load failed while importing _pywrap_tensorflow_internal: A dynamic link library (DLL) initialization routine failed.",
            "\nDuring handling of the above exception, another exception occurred:\n",
            "\u001b[1;31mImportError\u001b[0m                               Traceback (most recent call last)",
            "Cell \u001b[1;32mIn[1], line 1\u001b[0m\n\u001b[1;32m----> 1\u001b[0m \u001b[38;5;28;01mimport\u001b[39;00m \u001b[38;5;21;01mtensorflow\u001b[39;00m \u001b[38;5;28;01mas\u001b[39;00m \u001b[38;5;21;01mtf\u001b[39;00m\n\u001b[0;32m      2\u001b[0m \u001b[38;5;28mprint\u001b[39m(\u001b[38;5;124m\"\u001b[39m\u001b[38;5;124mGPU Available: \u001b[39m\u001b[38;5;124m\"\u001b[39m, tf\u001b[38;5;241m.\u001b[39mconfig\u001b[38;5;241m.\u001b[39mlist_physical_devices(\u001b[38;5;124m'\u001b[39m\u001b[38;5;124mGPU\u001b[39m\u001b[38;5;124m'\u001b[39m))\n",
            "File \u001b[1;32mc:\\Users\\LENOVO\\AppData\\Local\\Programs\\Python\\Python311\\Lib\\site-packages\\tensorflow\\__init__.py:40\u001b[0m\n\u001b[0;32m     37\u001b[0m _os\u001b[38;5;241m.\u001b[39menviron\u001b[38;5;241m.\u001b[39msetdefault(\u001b[38;5;124m\"\u001b[39m\u001b[38;5;124mENABLE_RUNTIME_UPTIME_TELEMETRY\u001b[39m\u001b[38;5;124m\"\u001b[39m, \u001b[38;5;124m\"\u001b[39m\u001b[38;5;124m1\u001b[39m\u001b[38;5;124m\"\u001b[39m)\n\u001b[0;32m     39\u001b[0m \u001b[38;5;66;03m# Do not remove this line; See https://github.com/tensorflow/tensorflow/issues/42596\u001b[39;00m\n\u001b[1;32m---> 40\u001b[0m \u001b[38;5;28;01mfrom\u001b[39;00m \u001b[38;5;21;01mtensorflow\u001b[39;00m\u001b[38;5;21;01m.\u001b[39;00m\u001b[38;5;21;01mpython\u001b[39;00m \u001b[38;5;28;01mimport\u001b[39;00m pywrap_tensorflow \u001b[38;5;28;01mas\u001b[39;00m _pywrap_tensorflow  \u001b[38;5;66;03m# pylint: disable=unused-import\u001b[39;00m\n\u001b[0;32m     41\u001b[0m \u001b[38;5;28;01mfrom\u001b[39;00m \u001b[38;5;21;01mtensorflow\u001b[39;00m\u001b[38;5;21;01m.\u001b[39;00m\u001b[38;5;21;01mpython\u001b[39;00m\u001b[38;5;21;01m.\u001b[39;00m\u001b[38;5;21;01mtools\u001b[39;00m \u001b[38;5;28;01mimport\u001b[39;00m module_util \u001b[38;5;28;01mas\u001b[39;00m _module_util\n\u001b[0;32m     42\u001b[0m \u001b[38;5;28;01mfrom\u001b[39;00m \u001b[38;5;21;01mtensorflow\u001b[39;00m\u001b[38;5;21;01m.\u001b[39;00m\u001b[38;5;21;01mpython\u001b[39;00m\u001b[38;5;21;01m.\u001b[39;00m\u001b[38;5;21;01mutil\u001b[39;00m\u001b[38;5;21;01m.\u001b[39;00m\u001b[38;5;21;01mlazy_loader\u001b[39;00m \u001b[38;5;28;01mimport\u001b[39;00m KerasLazyLoader \u001b[38;5;28;01mas\u001b[39;00m _KerasLazyLoader\n",
            "File \u001b[1;32mc:\\Users\\LENOVO\\AppData\\Local\\Programs\\Python\\Python311\\Lib\\site-packages\\tensorflow\\python\\pywrap_tensorflow.py:88\u001b[0m\n\u001b[0;32m     86\u001b[0m     sys\u001b[38;5;241m.\u001b[39msetdlopenflags(_default_dlopen_flags)\n\u001b[0;32m     87\u001b[0m \u001b[38;5;28;01mexcept\u001b[39;00m \u001b[38;5;167;01mImportError\u001b[39;00m:\n\u001b[1;32m---> 88\u001b[0m   \u001b[38;5;28;01mraise\u001b[39;00m \u001b[38;5;167;01mImportError\u001b[39;00m(\n\u001b[0;32m     89\u001b[0m       \u001b[38;5;124mf\u001b[39m\u001b[38;5;124m'\u001b[39m\u001b[38;5;132;01m{\u001b[39;00mtraceback\u001b[38;5;241m.\u001b[39mformat_exc()\u001b[38;5;132;01m}\u001b[39;00m\u001b[38;5;124m'\u001b[39m\n\u001b[0;32m     90\u001b[0m       \u001b[38;5;124mf\u001b[39m\u001b[38;5;124m'\u001b[39m\u001b[38;5;130;01m\\n\u001b[39;00m\u001b[38;5;130;01m\\n\u001b[39;00m\u001b[38;5;124mFailed to load the native TensorFlow runtime.\u001b[39m\u001b[38;5;130;01m\\n\u001b[39;00m\u001b[38;5;124m'\u001b[39m\n\u001b[0;32m     91\u001b[0m       \u001b[38;5;124mf\u001b[39m\u001b[38;5;124m'\u001b[39m\u001b[38;5;124mSee https://www.tensorflow.org/install/errors \u001b[39m\u001b[38;5;124m'\u001b[39m\n\u001b[0;32m     92\u001b[0m       \u001b[38;5;124mf\u001b[39m\u001b[38;5;124m'\u001b[39m\u001b[38;5;124mfor some common causes and solutions.\u001b[39m\u001b[38;5;130;01m\\n\u001b[39;00m\u001b[38;5;124m'\u001b[39m\n\u001b[0;32m     93\u001b[0m       \u001b[38;5;124mf\u001b[39m\u001b[38;5;124m'\u001b[39m\u001b[38;5;124mIf you need help, create an issue \u001b[39m\u001b[38;5;124m'\u001b[39m\n\u001b[0;32m     94\u001b[0m       \u001b[38;5;124mf\u001b[39m\u001b[38;5;124m'\u001b[39m\u001b[38;5;124mat https://github.com/tensorflow/tensorflow/issues \u001b[39m\u001b[38;5;124m'\u001b[39m\n\u001b[0;32m     95\u001b[0m       \u001b[38;5;124mf\u001b[39m\u001b[38;5;124m'\u001b[39m\u001b[38;5;124mand include the entire stack trace above this error message.\u001b[39m\u001b[38;5;124m'\u001b[39m)\n\u001b[0;32m     97\u001b[0m \u001b[38;5;66;03m# pylint: enable=wildcard-import,g-import-not-at-top,unused-import,line-too-long\u001b[39;00m\n",
            "\u001b[1;31mImportError\u001b[0m: Traceback (most recent call last):\n  File \"c:\\Users\\LENOVO\\AppData\\Local\\Programs\\Python\\Python311\\Lib\\site-packages\\tensorflow\\python\\pywrap_tensorflow.py\", line 73, in <module>\n    from tensorflow.python._pywrap_tensorflow_internal import *\nImportError: DLL load failed while importing _pywrap_tensorflow_internal: A dynamic link library (DLL) initialization routine failed.\n\n\nFailed to load the native TensorFlow runtime.\nSee https://www.tensorflow.org/install/errors for some common causes and solutions.\nIf you need help, create an issue at https://github.com/tensorflow/tensorflow/issues and include the entire stack trace above this error message."
          ]
        }
      ],
      "source": [
        "import tensorflow as tf\n",
        "print(\"GPU Available: \", tf.config.list_physical_devices('GPU'))"
      ]
    },
    {
      "cell_type": "code",
      "execution_count": 2,
      "metadata": {
        "colab": {
          "base_uri": "https://localhost:8080/"
        },
        "id": "eC2hF0_3ZH6l",
        "outputId": "cd245fa1-efad-4b12-8383-0b9d53130f33"
      },
      "outputs": [
        {
          "name": "stdout",
          "output_type": "stream",
          "text": [
            "Mounted at /content/drive\n"
          ]
        }
      ],
      "source": [
        "from google.colab import drive\n",
        "drive.mount('/content/drive')"
      ]
    },
    {
      "cell_type": "code",
      "execution_count": 47,
      "metadata": {
        "colab": {
          "base_uri": "https://localhost:8080/"
        },
        "collapsed": true,
        "id": "XebLcsiWZlKn",
        "outputId": "24ac37a1-4297-4719-b5c0-072702e9612e"
      },
      "outputs": [
        {
          "name": "stdout",
          "output_type": "stream",
          "text": [
            "'10 Marksheet .pdf'\n",
            "'12 Marksheet .pdf'\n",
            " 1.pdf\n",
            "'27 June 10th .pdf'\n",
            "'27 June .pdf'\n",
            " 2.jpg\n",
            " 3.jpg\n",
            " 3.pdf\n",
            " 62d17f0b-5248-41f4-befc-2daa457fb266.json\n",
            "'acceptance for enrolment .pdf'\n",
            " Acknowledgement_Receipt_BU23BTCN529484.pdf\n",
            "'Aditi Singh (Civics work, Electoral Politics).pdf'\n",
            "'Aditi Singh class 9 chapter 1 exampler.pdf'\n",
            "'Aditi Singh ( Hindi work ).pdf'\n",
            "'Aditi Singh( Hindi work).pdf'\n",
            "'Aditi Singh .pdf'\n",
            "'Aditi Singh ( SST work - chapter 2 economic people as resource).pdf'\n",
            "'AI Lab (Sem - 4)'\n",
            "'Ananya Singh (P.T.-1) Class 7th A.pdf'\n",
            " Application_form_BU23BTCN529484.pdf\n",
            "'april .pdf'\n",
            "'A truly beautiful mind.pdf'\n",
            " Ayush_Gaming22\n",
            "'Ayush Singh'\n",
            " B612_20200803_115914_186.jpg\n",
            " B612_20210308_144129_400~2.jpg\n",
            " BU_1688371504_BU23BTCN529484.pdf\n",
            " BU_1688371774_BU23BTCN529484.pdf\n",
            " certificate.pdf\n",
            "'Chapter 2 constitutional design.pdf'\n",
            "'CHAPTER - 4  (PHYSICS).pdf'\n",
            "'Class 9 Science chapter 2 exapler.pdf'\n",
            "'Class 9 Science chapter 3 exampler.pdf'\n",
            " Classroom\n",
            " coco_data\n",
            "'Colab Notebooks'\n",
            "'Custom Dataset '\n",
            "'Declaration by parents .pdf'\n",
            " DELETEDChemistry_2020-21.pdf\n",
            " DELETEDInfomatics_Practices_2020-21.pdf\n",
            "'DocScanner 09-Jun-2023 23-29 (1).pdf'\n",
            "'DocScanner 09-Jun-2023 23-29.jpg'\n",
            "'DocScanner 09-Jun-2023 23-29.pdf'\n",
            "'DocScanner 09-Jun-2023 23-32 (1).jpg'\n",
            "'DocScanner 09-Jun-2023 23-32.jpg'\n",
            "'DocScanner 09-Jun-2023 23-54.jpg'\n",
            "'DocScanner 10-Jun-2023 00-04.jpg'\n",
            "'DocScanner 10-Jun-2023 00-09.jpg'\n",
            "'DocScanner 10-Jun-2023 00-13.jpg'\n",
            "'DocScanner 10-Jun-2023 00-14.pdf'\n",
            "'DocScanner 10-Jun-2023 00-15.jpg'\n",
            "'DocScanner 10-Jun-2023 00-15.pdf'\n",
            "'DocScanner 10-Mar-2023 12-10 am.pdf'\n",
            "'DocScanner 19-Nov-2024 10-33 (1).pdf'\n",
            "'DocScanner 19-Nov-2024 10-33 (2).pdf'\n",
            "'DocScanner 19-Nov-2024 10-33.pdf'\n",
            "'Document from Aditya'\n",
            "'Document from Aditya (1)'\n",
            "'Document from Aditya.pdf'\n",
            " dsfinal.gdoc\n",
            "'English First Flight 1.pdf'\n",
            "'Fee payment 1st sem .pdf'\n",
            "'Getting started.pdf'\n",
            "'Guru Mei Sansaar Samaya By Vicky D Parekh(Geet-Mp3.Com) (1).mp3'\n",
            "'Guru Mei Sansaar Samaya By Vicky D Parekh(Geet-Mp3.Com).mp3'\n",
            " imgtopdf_generated_1807200834041.pdf\n",
            "'IP, CHAPTER 3 ( PART - 2).pdf'\n",
            "' IP PRACTICAL PROJECT 2.0.pdf'\n",
            "'IT .pdf'\n",
            "'jan 2.pdf'\n",
            "'January .pdf'\n",
            "'lab 11.pdf'\n",
            "'lab 12.pdf'\n",
            "'Math chapter 1 ( Real Numbers ).pdf'\n",
            " media-3.gdoc\n",
            "'New doc 05-Aug-2020 6.09 pm2.pdf'\n",
            "'New doc 06-Sep-2020 5.06 pm.pdf'\n",
            "'New doc 14-Aug-2020 7.48 pm (1).pdf'\n",
            "'New doc 14-Aug-2020 7.48 pm.pdf'\n",
            "'New doc 18-Aug-2020 10.46 pm.pdf'\n",
            "'New doc 19-Jul-2020 10.01 pm.pdf'\n",
            "'New doc 19-Jul-2020 10.04 pm.pdf'\n",
            "'New doc 19-Jul-2020 10.15 pm.pdf'\n",
            "'New doc 19-Jul-2020 9.51 pm.pdf'\n",
            "'New Doc 2020-05-20 23.20.55.pdf'\n",
            "'New doc 21-Jul-2020 9.43 pm.pdf'\n",
            "'New doc 30-Aug-2020 7.01 pm.pdf'\n",
            "'(Physics chapter 2).pdf'\n",
            "'(Physics, Chapter 3).pdf'\n",
            "'PR '\n",
            "'Practical programs .pdf'\n",
            "'Presentation 1'\n",
            "'Project Report '\n",
            "'Scan 11-Jul-2020 (1).pdf'\n",
            "'Scan 11-Jul-2020.pdf'\n",
            "'science Assignment  Class IX A.pdf'\n",
            "'Techno Gamerz minecraft world by Solanki Gaming(11).zip'\n",
            "'The Fundamental Unit of Life Class 9 Notes CBSE Science Chapter 5 [PDF].pdf'\n",
            "'The kingdom of fool .pdf'\n",
            "'The Legend of Northland (Poem).pdf'\n",
            "'to be completed by medical officer .pdf'\n",
            "'to be used for extension of enrolment .pdf'\n",
            "'Untitled document (1).gdoc'\n",
            "'Untitled document.gdoc'\n",
            "'Untitled spreadsheet.gsheet'\n",
            "'WhatsApp Image 2024-11-20 at 14.10.31_4c4e6a36.jpg'\n",
            "'Workbook (Environment & Sustainability) - 1.docx'\n",
            " WPS_edit20201127140834_mode-1_rotation0_shape36144252.jpg\n"
          ]
        }
      ],
      "source": [
        "!ls /content/drive/MyDrive"
      ]
    },
    {
      "cell_type": "code",
      "execution_count": 4,
      "metadata": {
        "colab": {
          "base_uri": "https://localhost:8080/"
        },
        "collapsed": true,
        "id": "icsz_-18Z17i",
        "outputId": "76bf0783-2fde-4deb-b86f-f361ac160130"
      },
      "outputs": [
        {
          "name": "stdout",
          "output_type": "stream",
          "text": [
            "Requirement already satisfied: pycocotools in /usr/local/lib/python3.11/dist-packages (2.0.8)\n",
            "Requirement already satisfied: requests in /usr/local/lib/python3.11/dist-packages (2.32.3)\n",
            "Requirement already satisfied: tqdm in /usr/local/lib/python3.11/dist-packages (4.67.1)\n",
            "Requirement already satisfied: matplotlib>=2.1.0 in /usr/local/lib/python3.11/dist-packages (from pycocotools) (3.10.0)\n",
            "Requirement already satisfied: numpy in /usr/local/lib/python3.11/dist-packages (from pycocotools) (2.0.2)\n",
            "Requirement already satisfied: charset-normalizer<4,>=2 in /usr/local/lib/python3.11/dist-packages (from requests) (3.4.1)\n",
            "Requirement already satisfied: idna<4,>=2.5 in /usr/local/lib/python3.11/dist-packages (from requests) (3.10)\n",
            "Requirement already satisfied: urllib3<3,>=1.21.1 in /usr/local/lib/python3.11/dist-packages (from requests) (2.3.0)\n",
            "Requirement already satisfied: certifi>=2017.4.17 in /usr/local/lib/python3.11/dist-packages (from requests) (2025.1.31)\n",
            "Requirement already satisfied: contourpy>=1.0.1 in /usr/local/lib/python3.11/dist-packages (from matplotlib>=2.1.0->pycocotools) (1.3.2)\n",
            "Requirement already satisfied: cycler>=0.10 in /usr/local/lib/python3.11/dist-packages (from matplotlib>=2.1.0->pycocotools) (0.12.1)\n",
            "Requirement already satisfied: fonttools>=4.22.0 in /usr/local/lib/python3.11/dist-packages (from matplotlib>=2.1.0->pycocotools) (4.57.0)\n",
            "Requirement already satisfied: kiwisolver>=1.3.1 in /usr/local/lib/python3.11/dist-packages (from matplotlib>=2.1.0->pycocotools) (1.4.8)\n",
            "Requirement already satisfied: packaging>=20.0 in /usr/local/lib/python3.11/dist-packages (from matplotlib>=2.1.0->pycocotools) (24.2)\n",
            "Requirement already satisfied: pillow>=8 in /usr/local/lib/python3.11/dist-packages (from matplotlib>=2.1.0->pycocotools) (11.1.0)\n",
            "Requirement already satisfied: pyparsing>=2.3.1 in /usr/local/lib/python3.11/dist-packages (from matplotlib>=2.1.0->pycocotools) (3.2.3)\n",
            "Requirement already satisfied: python-dateutil>=2.7 in /usr/local/lib/python3.11/dist-packages (from matplotlib>=2.1.0->pycocotools) (2.8.2)\n",
            "Requirement already satisfied: six>=1.5 in /usr/local/lib/python3.11/dist-packages (from python-dateutil>=2.7->matplotlib>=2.1.0->pycocotools) (1.17.0)\n"
          ]
        }
      ],
      "source": [
        "!pip install pycocotools requests tqdm"
      ]
    },
    {
      "cell_type": "code",
      "execution_count": 5,
      "metadata": {
        "colab": {
          "base_uri": "https://localhost:8080/"
        },
        "id": "aNk2yktPZ-1Z",
        "outputId": "fd01c975-5592-4a7b-ef87-18e3efdae075"
      },
      "outputs": [
        {
          "name": "stdout",
          "output_type": "stream",
          "text": [
            "pycocotools is installed and functional\n"
          ]
        }
      ],
      "source": [
        "from pycocotools.coco import COCO\n",
        "print(\"pycocotools is installed and functional\")"
      ]
    },
    {
      "cell_type": "code",
      "execution_count": 34,
      "metadata": {
        "colab": {
          "base_uri": "https://localhost:8080/",
          "height": 73
        },
        "id": "iVI1v4DO_OwN",
        "outputId": "c8eb3cf7-5c9f-4d48-94d8-4aaded7b93df"
      },
      "outputs": [
        {
          "data": {
            "text/html": [
              "\n",
              "     <input type=\"file\" id=\"files-6a795cb6-71ce-4807-aed3-55c2c94f61dd\" name=\"files[]\" multiple disabled\n",
              "        style=\"border:none\" />\n",
              "     <output id=\"result-6a795cb6-71ce-4807-aed3-55c2c94f61dd\">\n",
              "      Upload widget is only available when the cell has been executed in the\n",
              "      current browser session. Please rerun this cell to enable.\n",
              "      </output>\n",
              "      <script>// Copyright 2017 Google LLC\n",
              "//\n",
              "// Licensed under the Apache License, Version 2.0 (the \"License\");\n",
              "// you may not use this file except in compliance with the License.\n",
              "// You may obtain a copy of the License at\n",
              "//\n",
              "//      http://www.apache.org/licenses/LICENSE-2.0\n",
              "//\n",
              "// Unless required by applicable law or agreed to in writing, software\n",
              "// distributed under the License is distributed on an \"AS IS\" BASIS,\n",
              "// WITHOUT WARRANTIES OR CONDITIONS OF ANY KIND, either express or implied.\n",
              "// See the License for the specific language governing permissions and\n",
              "// limitations under the License.\n",
              "\n",
              "/**\n",
              " * @fileoverview Helpers for google.colab Python module.\n",
              " */\n",
              "(function(scope) {\n",
              "function span(text, styleAttributes = {}) {\n",
              "  const element = document.createElement('span');\n",
              "  element.textContent = text;\n",
              "  for (const key of Object.keys(styleAttributes)) {\n",
              "    element.style[key] = styleAttributes[key];\n",
              "  }\n",
              "  return element;\n",
              "}\n",
              "\n",
              "// Max number of bytes which will be uploaded at a time.\n",
              "const MAX_PAYLOAD_SIZE = 100 * 1024;\n",
              "\n",
              "function _uploadFiles(inputId, outputId) {\n",
              "  const steps = uploadFilesStep(inputId, outputId);\n",
              "  const outputElement = document.getElementById(outputId);\n",
              "  // Cache steps on the outputElement to make it available for the next call\n",
              "  // to uploadFilesContinue from Python.\n",
              "  outputElement.steps = steps;\n",
              "\n",
              "  return _uploadFilesContinue(outputId);\n",
              "}\n",
              "\n",
              "// This is roughly an async generator (not supported in the browser yet),\n",
              "// where there are multiple asynchronous steps and the Python side is going\n",
              "// to poll for completion of each step.\n",
              "// This uses a Promise to block the python side on completion of each step,\n",
              "// then passes the result of the previous step as the input to the next step.\n",
              "function _uploadFilesContinue(outputId) {\n",
              "  const outputElement = document.getElementById(outputId);\n",
              "  const steps = outputElement.steps;\n",
              "\n",
              "  const next = steps.next(outputElement.lastPromiseValue);\n",
              "  return Promise.resolve(next.value.promise).then((value) => {\n",
              "    // Cache the last promise value to make it available to the next\n",
              "    // step of the generator.\n",
              "    outputElement.lastPromiseValue = value;\n",
              "    return next.value.response;\n",
              "  });\n",
              "}\n",
              "\n",
              "/**\n",
              " * Generator function which is called between each async step of the upload\n",
              " * process.\n",
              " * @param {string} inputId Element ID of the input file picker element.\n",
              " * @param {string} outputId Element ID of the output display.\n",
              " * @return {!Iterable<!Object>} Iterable of next steps.\n",
              " */\n",
              "function* uploadFilesStep(inputId, outputId) {\n",
              "  const inputElement = document.getElementById(inputId);\n",
              "  inputElement.disabled = false;\n",
              "\n",
              "  const outputElement = document.getElementById(outputId);\n",
              "  outputElement.innerHTML = '';\n",
              "\n",
              "  const pickedPromise = new Promise((resolve) => {\n",
              "    inputElement.addEventListener('change', (e) => {\n",
              "      resolve(e.target.files);\n",
              "    });\n",
              "  });\n",
              "\n",
              "  const cancel = document.createElement('button');\n",
              "  inputElement.parentElement.appendChild(cancel);\n",
              "  cancel.textContent = 'Cancel upload';\n",
              "  const cancelPromise = new Promise((resolve) => {\n",
              "    cancel.onclick = () => {\n",
              "      resolve(null);\n",
              "    };\n",
              "  });\n",
              "\n",
              "  // Wait for the user to pick the files.\n",
              "  const files = yield {\n",
              "    promise: Promise.race([pickedPromise, cancelPromise]),\n",
              "    response: {\n",
              "      action: 'starting',\n",
              "    }\n",
              "  };\n",
              "\n",
              "  cancel.remove();\n",
              "\n",
              "  // Disable the input element since further picks are not allowed.\n",
              "  inputElement.disabled = true;\n",
              "\n",
              "  if (!files) {\n",
              "    return {\n",
              "      response: {\n",
              "        action: 'complete',\n",
              "      }\n",
              "    };\n",
              "  }\n",
              "\n",
              "  for (const file of files) {\n",
              "    const li = document.createElement('li');\n",
              "    li.append(span(file.name, {fontWeight: 'bold'}));\n",
              "    li.append(span(\n",
              "        `(${file.type || 'n/a'}) - ${file.size} bytes, ` +\n",
              "        `last modified: ${\n",
              "            file.lastModifiedDate ? file.lastModifiedDate.toLocaleDateString() :\n",
              "                                    'n/a'} - `));\n",
              "    const percent = span('0% done');\n",
              "    li.appendChild(percent);\n",
              "\n",
              "    outputElement.appendChild(li);\n",
              "\n",
              "    const fileDataPromise = new Promise((resolve) => {\n",
              "      const reader = new FileReader();\n",
              "      reader.onload = (e) => {\n",
              "        resolve(e.target.result);\n",
              "      };\n",
              "      reader.readAsArrayBuffer(file);\n",
              "    });\n",
              "    // Wait for the data to be ready.\n",
              "    let fileData = yield {\n",
              "      promise: fileDataPromise,\n",
              "      response: {\n",
              "        action: 'continue',\n",
              "      }\n",
              "    };\n",
              "\n",
              "    // Use a chunked sending to avoid message size limits. See b/62115660.\n",
              "    let position = 0;\n",
              "    do {\n",
              "      const length = Math.min(fileData.byteLength - position, MAX_PAYLOAD_SIZE);\n",
              "      const chunk = new Uint8Array(fileData, position, length);\n",
              "      position += length;\n",
              "\n",
              "      const base64 = btoa(String.fromCharCode.apply(null, chunk));\n",
              "      yield {\n",
              "        response: {\n",
              "          action: 'append',\n",
              "          file: file.name,\n",
              "          data: base64,\n",
              "        },\n",
              "      };\n",
              "\n",
              "      let percentDone = fileData.byteLength === 0 ?\n",
              "          100 :\n",
              "          Math.round((position / fileData.byteLength) * 100);\n",
              "      percent.textContent = `${percentDone}% done`;\n",
              "\n",
              "    } while (position < fileData.byteLength);\n",
              "  }\n",
              "\n",
              "  // All done.\n",
              "  yield {\n",
              "    response: {\n",
              "      action: 'complete',\n",
              "    }\n",
              "  };\n",
              "}\n",
              "\n",
              "scope.google = scope.google || {};\n",
              "scope.google.colab = scope.google.colab || {};\n",
              "scope.google.colab._files = {\n",
              "  _uploadFiles,\n",
              "  _uploadFilesContinue,\n",
              "};\n",
              "})(self);\n",
              "</script> "
            ],
            "text/plain": [
              "<IPython.core.display.HTML object>"
            ]
          },
          "metadata": {},
          "output_type": "display_data"
        },
        {
          "name": "stdout",
          "output_type": "stream",
          "text": [
            "Saving kaggle.json to kaggle (1).json\n"
          ]
        }
      ],
      "source": [
        "from google.colab import files\n",
        "uploaded = files.upload()"
      ]
    },
    {
      "cell_type": "code",
      "execution_count": 59,
      "metadata": {
        "id": "trqKN2PTHWuB"
      },
      "outputs": [],
      "source": [
        "import keras"
      ]
    },
    {
      "cell_type": "code",
      "execution_count": 65,
      "metadata": {
        "colab": {
          "base_uri": "https://localhost:8080/"
        },
        "id": "dOfACt_dLD6C",
        "outputId": "a0185106-a83d-4862-a6d3-4572382430de"
      },
      "outputs": [
        {
          "name": "stdout",
          "output_type": "stream",
          "text": [
            "ls: cannot access '/content/drive/MyDrive/Custom Dataset/images/': No such file or directory\n"
          ]
        }
      ],
      "source": [
        "!ls -lh \"/content/drive/MyDrive/Custom Dataset/images/\""
      ]
    },
    {
      "cell_type": "code",
      "execution_count": 66,
      "metadata": {
        "colab": {
          "base_uri": "https://localhost:8080/"
        },
        "collapsed": true,
        "id": "aWUHn72rLJyk",
        "outputId": "cd41cf4e-b514-4656-a927-fbbc7676b711"
      },
      "outputs": [
        {
          "name": "stdout",
          "output_type": "stream",
          "text": [
            "total 403M\n",
            "-rw------- 1 root root 425K Aug 22  2023 '10 Marksheet .pdf'\n",
            "-rw------- 1 root root 613K Aug 22  2023 '12 Marksheet .pdf'\n",
            "-rw------- 1 root root 104K Sep 14  2020  1.pdf\n",
            "-rw------- 1 root root 425K Jun 27  2023 '27 June 10th .pdf'\n",
            "-rw------- 1 root root 613K Jun 27  2023 '27 June .pdf'\n",
            "-rw------- 1 root root  85K Nov 20 08:47  2.jpg\n",
            "-rw------- 1 root root  61K Nov 20 08:51  3.jpg\n",
            "-rw------- 1 root root 107K Sep 14  2020  3.pdf\n",
            "-rw------- 1 root root 9.8K Aug  2  2022  62d17f0b-5248-41f4-befc-2daa457fb266.json\n",
            "-rw------- 1 root root 305K Mar 28  2023 'acceptance for enrolment .pdf'\n",
            "-rw------- 1 root root  42K Jun 27  2023  Acknowledgement_Receipt_BU23BTCN529484.pdf\n",
            "-rw------- 1 root root  14M Jul 25  2020 'Aditi Singh (Civics work, Electoral Politics).pdf'\n",
            "-rw------- 1 root root 237K Sep  9  2020 'Aditi Singh class 9 chapter 1 exampler.pdf'\n",
            "-rw------- 1 root root 2.2M Aug 15  2020 'Aditi Singh ( Hindi work ).pdf'\n",
            "-rw------- 1 root root 6.7M Aug 15  2020 'Aditi Singh( Hindi work).pdf'\n",
            "-rw------- 1 root root 1.4M Aug 18  2020 'Aditi Singh .pdf'\n",
            "-rw------- 1 root root  11M Aug 17  2020 'Aditi Singh ( SST work - chapter 2 economic people as resource).pdf'\n",
            "drwx------ 2 root root 4.0K Jan 31 06:22 'AI Lab (Sem - 4)'\n",
            "-rw------- 1 root root 4.6M Oct  5  2020 'Ananya Singh (P.T.-1) Class 7th A.pdf'\n",
            "-rw------- 1 root root  81K Jun 27  2023  Application_form_BU23BTCN529484.pdf\n",
            "-rw------- 1 root root  86K Jun 27  2023 'april .pdf'\n",
            "-rw------- 1 root root 2.8M Jul 18  2020 'A truly beautiful mind.pdf'\n",
            "-rw------- 1 root root 1.8K Jul 29  2023  Ayush_Gaming22\n",
            "drwx------ 2 root root 4.0K Aug  5  2022 'Ayush Singh'\n",
            "-rw------- 1 root root 745K Sep 13  2020  B612_20200803_115914_186.jpg\n",
            "-rw------- 1 root root 156K Jun 24  2022  B612_20210308_144129_400~2.jpg\n",
            "-rw------- 1 root root 127K Aug 22  2023  BU_1688371504_BU23BTCN529484.pdf\n",
            "-rw------- 1 root root 127K Aug 22  2023  BU_1688371774_BU23BTCN529484.pdf\n",
            "-rw------- 1 root root 456K Aug 22  2023  certificate.pdf\n",
            "-rw------- 1 root root  13M Jul 30  2020 'Chapter 2 constitutional design.pdf'\n",
            "-rw------- 1 root root  49M Aug  9  2020 'CHAPTER - 4  (PHYSICS).pdf'\n",
            "-rw------- 1 root root 552K Sep  9  2020 'Class 9 Science chapter 2 exapler.pdf'\n",
            "-rw------- 1 root root 1.5M Sep  9  2020 'Class 9 Science chapter 3 exampler.pdf'\n",
            "drwx------ 2 root root 4.0K May 18  2020  Classroom\n",
            "drwx------ 3 root root 4.0K Apr 25 21:50  coco_data\n",
            "drwx------ 2 root root 4.0K Aug 13  2024 'Colab Notebooks'\n",
            "drwx------ 3 root root 4.0K Apr 25 22:14 'Custom Dataset '\n",
            "-rw------- 1 root root 350K Mar 28  2023 'Declaration by parents .pdf'\n",
            "-rw------- 1 root root  79K Mar  2  2021  DELETEDChemistry_2020-21.pdf\n",
            "-rw------- 1 root root 118K Mar  2  2021  DELETEDInfomatics_Practices_2020-21.pdf\n",
            "-rw------- 1 root root  43K Jun  9  2023 'DocScanner 09-Jun-2023 23-29 (1).pdf'\n",
            "-rw------- 1 root root  42K Jun  9  2023 'DocScanner 09-Jun-2023 23-29.jpg'\n",
            "-rw------- 1 root root  43K Jun  9  2023 'DocScanner 09-Jun-2023 23-29.pdf'\n",
            "-rw------- 1 root root  11K Jun  9  2023 'DocScanner 09-Jun-2023 23-32 (1).jpg'\n",
            "-rw------- 1 root root  11K Jun  9  2023 'DocScanner 09-Jun-2023 23-32.jpg'\n",
            "-rw------- 1 root root  17K Jun  9  2023 'DocScanner 09-Jun-2023 23-54.jpg'\n",
            "-rw------- 1 root root 4.1K Jun  9  2023 'DocScanner 10-Jun-2023 00-04.jpg'\n",
            "-rw------- 1 root root  12K Jun  9  2023 'DocScanner 10-Jun-2023 00-09.jpg'\n",
            "-rw------- 1 root root  41K Jun  9  2023 'DocScanner 10-Jun-2023 00-13.jpg'\n",
            "-rw------- 1 root root  42K Jun  9  2023 'DocScanner 10-Jun-2023 00-14.pdf'\n",
            "-rw------- 1 root root  36K Jun  9  2023 'DocScanner 10-Jun-2023 00-15.jpg'\n",
            "-rw------- 1 root root  37K Jun  9  2023 'DocScanner 10-Jun-2023 00-15.pdf'\n",
            "-rw------- 1 root root 161K Mar  9  2023 'DocScanner 10-Mar-2023 12-10 am.pdf'\n",
            "-rw------- 1 root root 645K Dec  2 02:05 'DocScanner 19-Nov-2024 10-33 (1).pdf'\n",
            "-rw------- 1 root root 645K Nov 19 05:13 'DocScanner 19-Nov-2024 10-33 (2).pdf'\n",
            "-rw------- 1 root root 645K Dec  2 02:05 'DocScanner 19-Nov-2024 10-33.pdf'\n",
            "-rw------- 1 root root  14K Feb 22  2024 'Document from Aditya'\n",
            "-rw------- 1 root root 4.0K Sep  5  2023 'Document from Aditya (1)'\n",
            "-rw------- 1 root root 692K Nov  9  2023 'Document from Aditya.pdf'\n",
            "-rw------- 1 root root  181 Dec 13 22:04  dsfinal.gdoc\n",
            "-rw------- 1 root root 533K Apr  1  2021 'English First Flight 1.pdf'\n",
            "-rw------- 1 root root 2.0M Aug 20  2023 'Fee payment 1st sem .pdf'\n",
            "-rw------- 1 root root 1.5M Apr 21  2019 'Getting started.pdf'\n",
            "-rw------- 1 root root 9.1M Sep  4  2020 'Guru Mei Sansaar Samaya By Vicky D Parekh(Geet-Mp3.Com) (1).mp3'\n",
            "-rw------- 1 root root 9.1M Sep  4  2020 'Guru Mei Sansaar Samaya By Vicky D Parekh(Geet-Mp3.Com).mp3'\n",
            "-rw------- 1 root root 4.3M Jul 18  2020  imgtopdf_generated_1807200834041.pdf\n",
            "-rw------- 1 root root 4.5M Jul 23  2020 'IP, CHAPTER 3 ( PART - 2).pdf'\n",
            "-rw------- 1 root root 257K Mar  3  2021 ' IP PRACTICAL PROJECT 2.0.pdf'\n",
            "-rw------- 1 root root  27M Mar 11  2021 'IT .pdf'\n",
            "-rw------- 1 root root  59K Jun 27  2023 'jan 2.pdf'\n",
            "-rw------- 1 root root  59K Jun 27  2023 'January .pdf'\n",
            "-rw------- 1 root root 150K Dec  9  2023 'lab 11.pdf'\n",
            "-rw------- 1 root root 286K Dec  9  2023 'lab 12.pdf'\n",
            "-rw------- 1 root root  12M Apr 21  2021 'Math chapter 1 ( Real Numbers ).pdf'\n",
            "-rw------- 1 root root  181 Aug 10  2020  media-3.gdoc\n",
            "-rw------- 1 root root 8.2M Aug  5  2020 'New doc 05-Aug-2020 6.09 pm2.pdf'\n",
            "-rw------- 1 root root  15M Sep  6  2020 'New doc 06-Sep-2020 5.06 pm.pdf'\n",
            "-rw------- 1 root root 6.5M Aug 14  2020 'New doc 14-Aug-2020 7.48 pm (1).pdf'\n",
            "-rw------- 1 root root 6.5M Aug 14  2020 'New doc 14-Aug-2020 7.48 pm.pdf'\n",
            "-rw------- 1 root root 3.9M Aug 18  2020 'New doc 18-Aug-2020 10.46 pm.pdf'\n",
            "-rw------- 1 root root 1.5M Jul 19  2020 'New doc 19-Jul-2020 10.01 pm.pdf'\n",
            "-rw------- 1 root root 9.8M Jul 19  2020 'New doc 19-Jul-2020 10.04 pm.pdf'\n",
            "-rw------- 1 root root 1.1M Jul 19  2020 'New doc 19-Jul-2020 10.15 pm.pdf'\n",
            "-rw------- 1 root root 2.4M Jul 19  2020 'New doc 19-Jul-2020 9.51 pm.pdf'\n",
            "-rw------- 1 root root 5.2M May 20  2020 'New Doc 2020-05-20 23.20.55.pdf'\n",
            "-rw------- 1 root root 1.8M Jul 21  2020 'New doc 21-Jul-2020 9.43 pm.pdf'\n",
            "-rw------- 1 root root  18M Aug 30  2020 'New doc 30-Aug-2020 7.01 pm.pdf'\n",
            "-rw------- 1 root root  23M Jul 29  2020 '(Physics chapter 2).pdf'\n",
            "-rw------- 1 root root  20M Jul 29  2020 '(Physics, Chapter 3).pdf'\n",
            "-rw------- 1 root root 529K Nov 24  2023 'PR '\n",
            "-rw------- 1 root root 1.6M Sep  1  2020 'Practical programs .pdf'\n",
            "-rw------- 1 root root 4.5M Nov 24  2023 'Presentation 1'\n",
            "-rw------- 1 root root 529K Nov 24  2023 'Project Report '\n",
            "-rw------- 1 root root 3.1M Jul 11  2020 'Scan 11-Jul-2020 (1).pdf'\n",
            "-rw------- 1 root root 3.1M Jul 11  2020 'Scan 11-Jul-2020.pdf'\n",
            "-rw------- 1 root root 3.0M Oct 11  2020 'science Assignment  Class IX A.pdf'\n",
            "-rw------- 1 root root  68M Aug  4  2022 'Techno Gamerz minecraft world by Solanki Gaming(11).zip'\n",
            "-rw------- 1 root root 848K Jul 13  2023 'The Fundamental Unit of Life Class 9 Notes CBSE Science Chapter 5 [PDF].pdf'\n",
            "-rw------- 1 root root  11M Jul 29  2020 'The kingdom of fool .pdf'\n",
            "-rw------- 1 root root 5.3M Jul 29  2020 'The Legend of Northland (Poem).pdf'\n",
            "-rw------- 1 root root 153K Mar 28  2023 'to be completed by medical officer .pdf'\n",
            "-rw------- 1 root root 261K Mar 28  2023 'to be used for extension of enrolment .pdf'\n",
            "-rw------- 1 root root  181 May 30  2020 'Untitled document (1).gdoc'\n",
            "-rw------- 1 root root  181 Sep  1  2020 'Untitled document.gdoc'\n",
            "-rw------- 1 root root  181 Sep  1  2020 'Untitled spreadsheet.gsheet'\n",
            "-rw------- 1 root root 117K Nov 20 08:46 'WhatsApp Image 2024-11-20 at 14.10.31_4c4e6a36.jpg'\n",
            "-rw------- 1 root root  61K Oct 31  2023 'Workbook (Environment & Sustainability) - 1.docx'\n",
            "-rw------- 1 root root 555K Nov 28  2020  WPS_edit20201127140834_mode-1_rotation0_shape36144252.jpg\n"
          ]
        }
      ],
      "source": [
        "!ls -lh /content/drive/MyDrive/"
      ]
    },
    {
      "cell_type": "code",
      "execution_count": 67,
      "metadata": {
        "colab": {
          "base_uri": "https://localhost:8080/"
        },
        "id": "q_2_GZRXLYW1",
        "outputId": "63d1b66c-55d4-48f0-c03c-d409cd0fcdd9"
      },
      "outputs": [
        {
          "name": "stdout",
          "output_type": "stream",
          "text": [
            "ls: cannot access '/content/drive/MyDrive/custom_dataset/': No such file or directory\n"
          ]
        }
      ],
      "source": [
        "!ls -lh /content/drive/MyDrive/custom_dataset/"
      ]
    },
    {
      "cell_type": "code",
      "execution_count": 70,
      "metadata": {
        "colab": {
          "base_uri": "https://localhost:8080/"
        },
        "id": "8z5ioK-KLkqE",
        "outputId": "eb457995-2650-4ba3-b8ae-892418d6853b"
      },
      "outputs": [
        {
          "name": "stdout",
          "output_type": "stream",
          "text": [
            "unzip:  cannot find or open /content/drive/MyDrive/Custom Dataset/images.zip, /content/drive/MyDrive/Custom Dataset/images.zip.zip or /content/drive/MyDrive/Custom Dataset/images.zip.ZIP.\n"
          ]
        }
      ],
      "source": [
        "!unzip \"/content/drive/MyDrive/Custom Dataset/images.zip\" -d \"/content/drive/MyDrive/Custom Dataset/images/\""
      ]
    },
    {
      "cell_type": "code",
      "execution_count": 71,
      "metadata": {
        "colab": {
          "base_uri": "https://localhost:8080/"
        },
        "id": "5l5OziUcL7JZ",
        "outputId": "12b77e69-c7b2-4ff9-9202-e9e96c1a3d66"
      },
      "outputs": [
        {
          "name": "stdout",
          "output_type": "stream",
          "text": [
            "ls: cannot access '/content/drive/MyDrive/Custom Dataset/images/': No such file or directory\n"
          ]
        }
      ],
      "source": [
        "!ls -lh \"/content/drive/MyDrive/Custom Dataset/images/\""
      ]
    },
    {
      "cell_type": "code",
      "execution_count": 74,
      "metadata": {
        "colab": {
          "base_uri": "https://localhost:8080/",
          "height": 1000
        },
        "id": "kIrXOMylFf3T",
        "outputId": "cdf4a265-3a5e-435a-ef18-73fac3a20192"
      },
      "outputs": [
        {
          "name": "stdout",
          "output_type": "stream",
          "text": [
            "TensorFlow Version: 2.18.0\n",
            "GPU Available: [PhysicalDevice(name='/physical_device:GPU:0', device_type='GPU')]\n",
            "Found 1000 images in /content/drive/MyDrive/Custom Dataset /Images\n",
            "Loading and preprocessing 1000 images...\n"
          ]
        },
        {
          "name": "stderr",
          "output_type": "stream",
          "text": [
            "Processing images: 100%|██████████| 1000/1000 [00:10<00:00, 94.11it/s] \n"
          ]
        },
        {
          "name": "stdout",
          "output_type": "stream",
          "text": [
            "Processed 1000 images successfully, skipped 0 images\n"
          ]
        },
        {
          "data": {
            "text/html": [
              "<pre style=\"white-space:pre;overflow-x:auto;line-height:normal;font-family:Menlo,'DejaVu Sans Mono',consolas,'Courier New',monospace\"><span style=\"font-weight: bold\">Model: \"generator\"</span>\n",
              "</pre>\n"
            ],
            "text/plain": [
              "\u001b[1mModel: \"generator\"\u001b[0m\n"
            ]
          },
          "metadata": {},
          "output_type": "display_data"
        },
        {
          "data": {
            "text/html": [
              "<pre style=\"white-space:pre;overflow-x:auto;line-height:normal;font-family:Menlo,'DejaVu Sans Mono',consolas,'Courier New',monospace\">┏━━━━━━━━━━━━━━━━━━━━━┳━━━━━━━━━━━━━━━━━━━┳━━━━━━━━━━━━┳━━━━━━━━━━━━━━━━━━━┓\n",
              "┃<span style=\"font-weight: bold\"> Layer (type)        </span>┃<span style=\"font-weight: bold\"> Output Shape      </span>┃<span style=\"font-weight: bold\">    Param # </span>┃<span style=\"font-weight: bold\"> Connected to      </span>┃\n",
              "┡━━━━━━━━━━━━━━━━━━━━━╇━━━━━━━━━━━━━━━━━━━╇━━━━━━━━━━━━╇━━━━━━━━━━━━━━━━━━━┩\n",
              "│ input_layer_4       │ (<span style=\"color: #00d7ff; text-decoration-color: #00d7ff\">None</span>, <span style=\"color: #00af00; text-decoration-color: #00af00\">128</span>, <span style=\"color: #00af00; text-decoration-color: #00af00\">128</span>,  │          <span style=\"color: #00af00; text-decoration-color: #00af00\">0</span> │ -                 │\n",
              "│ (<span style=\"color: #0087ff; text-decoration-color: #0087ff\">InputLayer</span>)        │ <span style=\"color: #00af00; text-decoration-color: #00af00\">1</span>)                │            │                   │\n",
              "├─────────────────────┼───────────────────┼────────────┼───────────────────┤\n",
              "│ conv2d_9 (<span style=\"color: #0087ff; text-decoration-color: #0087ff\">Conv2D</span>)   │ (<span style=\"color: #00d7ff; text-decoration-color: #00d7ff\">None</span>, <span style=\"color: #00af00; text-decoration-color: #00af00\">64</span>, <span style=\"color: #00af00; text-decoration-color: #00af00\">64</span>,    │      <span style=\"color: #00af00; text-decoration-color: #00af00\">1,088</span> │ input_layer_4[<span style=\"color: #00af00; text-decoration-color: #00af00\">0</span>]… │\n",
              "│                     │ <span style=\"color: #00af00; text-decoration-color: #00af00\">64</span>)               │            │                   │\n",
              "├─────────────────────┼───────────────────┼────────────┼───────────────────┤\n",
              "│ conv2d_10 (<span style=\"color: #0087ff; text-decoration-color: #0087ff\">Conv2D</span>)  │ (<span style=\"color: #00d7ff; text-decoration-color: #00d7ff\">None</span>, <span style=\"color: #00af00; text-decoration-color: #00af00\">32</span>, <span style=\"color: #00af00; text-decoration-color: #00af00\">32</span>,    │    <span style=\"color: #00af00; text-decoration-color: #00af00\">131,200</span> │ conv2d_9[<span style=\"color: #00af00; text-decoration-color: #00af00\">0</span>][<span style=\"color: #00af00; text-decoration-color: #00af00\">0</span>]    │\n",
              "│                     │ <span style=\"color: #00af00; text-decoration-color: #00af00\">128</span>)              │            │                   │\n",
              "├─────────────────────┼───────────────────┼────────────┼───────────────────┤\n",
              "│ conv2d_11 (<span style=\"color: #0087ff; text-decoration-color: #0087ff\">Conv2D</span>)  │ (<span style=\"color: #00d7ff; text-decoration-color: #00d7ff\">None</span>, <span style=\"color: #00af00; text-decoration-color: #00af00\">16</span>, <span style=\"color: #00af00; text-decoration-color: #00af00\">16</span>,    │    <span style=\"color: #00af00; text-decoration-color: #00af00\">524,544</span> │ conv2d_10[<span style=\"color: #00af00; text-decoration-color: #00af00\">0</span>][<span style=\"color: #00af00; text-decoration-color: #00af00\">0</span>]   │\n",
              "│                     │ <span style=\"color: #00af00; text-decoration-color: #00af00\">256</span>)              │            │                   │\n",
              "├─────────────────────┼───────────────────┼────────────┼───────────────────┤\n",
              "│ conv2d_12 (<span style=\"color: #0087ff; text-decoration-color: #0087ff\">Conv2D</span>)  │ (<span style=\"color: #00d7ff; text-decoration-color: #00d7ff\">None</span>, <span style=\"color: #00af00; text-decoration-color: #00af00\">8</span>, <span style=\"color: #00af00; text-decoration-color: #00af00\">8</span>, <span style=\"color: #00af00; text-decoration-color: #00af00\">512</span>) │  <span style=\"color: #00af00; text-decoration-color: #00af00\">2,097,664</span> │ conv2d_11[<span style=\"color: #00af00; text-decoration-color: #00af00\">0</span>][<span style=\"color: #00af00; text-decoration-color: #00af00\">0</span>]   │\n",
              "├─────────────────────┼───────────────────┼────────────┼───────────────────┤\n",
              "│ conv2d_transpose_4  │ (<span style=\"color: #00d7ff; text-decoration-color: #00d7ff\">None</span>, <span style=\"color: #00af00; text-decoration-color: #00af00\">16</span>, <span style=\"color: #00af00; text-decoration-color: #00af00\">16</span>,    │  <span style=\"color: #00af00; text-decoration-color: #00af00\">2,097,408</span> │ conv2d_12[<span style=\"color: #00af00; text-decoration-color: #00af00\">0</span>][<span style=\"color: #00af00; text-decoration-color: #00af00\">0</span>]   │\n",
              "│ (<span style=\"color: #0087ff; text-decoration-color: #0087ff\">Conv2DTranspose</span>)   │ <span style=\"color: #00af00; text-decoration-color: #00af00\">256</span>)              │            │                   │\n",
              "├─────────────────────┼───────────────────┼────────────┼───────────────────┤\n",
              "│ concatenate_4       │ (<span style=\"color: #00d7ff; text-decoration-color: #00d7ff\">None</span>, <span style=\"color: #00af00; text-decoration-color: #00af00\">16</span>, <span style=\"color: #00af00; text-decoration-color: #00af00\">16</span>,    │          <span style=\"color: #00af00; text-decoration-color: #00af00\">0</span> │ conv2d_transpose… │\n",
              "│ (<span style=\"color: #0087ff; text-decoration-color: #0087ff\">Concatenate</span>)       │ <span style=\"color: #00af00; text-decoration-color: #00af00\">512</span>)              │            │ conv2d_11[<span style=\"color: #00af00; text-decoration-color: #00af00\">0</span>][<span style=\"color: #00af00; text-decoration-color: #00af00\">0</span>]   │\n",
              "├─────────────────────┼───────────────────┼────────────┼───────────────────┤\n",
              "│ conv2d_transpose_5  │ (<span style=\"color: #00d7ff; text-decoration-color: #00d7ff\">None</span>, <span style=\"color: #00af00; text-decoration-color: #00af00\">32</span>, <span style=\"color: #00af00; text-decoration-color: #00af00\">32</span>,    │  <span style=\"color: #00af00; text-decoration-color: #00af00\">1,048,704</span> │ concatenate_4[<span style=\"color: #00af00; text-decoration-color: #00af00\">0</span>]… │\n",
              "│ (<span style=\"color: #0087ff; text-decoration-color: #0087ff\">Conv2DTranspose</span>)   │ <span style=\"color: #00af00; text-decoration-color: #00af00\">128</span>)              │            │                   │\n",
              "├─────────────────────┼───────────────────┼────────────┼───────────────────┤\n",
              "│ concatenate_5       │ (<span style=\"color: #00d7ff; text-decoration-color: #00d7ff\">None</span>, <span style=\"color: #00af00; text-decoration-color: #00af00\">32</span>, <span style=\"color: #00af00; text-decoration-color: #00af00\">32</span>,    │          <span style=\"color: #00af00; text-decoration-color: #00af00\">0</span> │ conv2d_transpose… │\n",
              "│ (<span style=\"color: #0087ff; text-decoration-color: #0087ff\">Concatenate</span>)       │ <span style=\"color: #00af00; text-decoration-color: #00af00\">256</span>)              │            │ conv2d_10[<span style=\"color: #00af00; text-decoration-color: #00af00\">0</span>][<span style=\"color: #00af00; text-decoration-color: #00af00\">0</span>]   │\n",
              "├─────────────────────┼───────────────────┼────────────┼───────────────────┤\n",
              "│ conv2d_transpose_6  │ (<span style=\"color: #00d7ff; text-decoration-color: #00d7ff\">None</span>, <span style=\"color: #00af00; text-decoration-color: #00af00\">64</span>, <span style=\"color: #00af00; text-decoration-color: #00af00\">64</span>,    │    <span style=\"color: #00af00; text-decoration-color: #00af00\">262,208</span> │ concatenate_5[<span style=\"color: #00af00; text-decoration-color: #00af00\">0</span>]… │\n",
              "│ (<span style=\"color: #0087ff; text-decoration-color: #0087ff\">Conv2DTranspose</span>)   │ <span style=\"color: #00af00; text-decoration-color: #00af00\">64</span>)               │            │                   │\n",
              "├─────────────────────┼───────────────────┼────────────┼───────────────────┤\n",
              "│ concatenate_6       │ (<span style=\"color: #00d7ff; text-decoration-color: #00d7ff\">None</span>, <span style=\"color: #00af00; text-decoration-color: #00af00\">64</span>, <span style=\"color: #00af00; text-decoration-color: #00af00\">64</span>,    │          <span style=\"color: #00af00; text-decoration-color: #00af00\">0</span> │ conv2d_transpose… │\n",
              "│ (<span style=\"color: #0087ff; text-decoration-color: #0087ff\">Concatenate</span>)       │ <span style=\"color: #00af00; text-decoration-color: #00af00\">128</span>)              │            │ conv2d_9[<span style=\"color: #00af00; text-decoration-color: #00af00\">0</span>][<span style=\"color: #00af00; text-decoration-color: #00af00\">0</span>]    │\n",
              "├─────────────────────┼───────────────────┼────────────┼───────────────────┤\n",
              "│ conv2d_transpose_7  │ (<span style=\"color: #00d7ff; text-decoration-color: #00d7ff\">None</span>, <span style=\"color: #00af00; text-decoration-color: #00af00\">128</span>, <span style=\"color: #00af00; text-decoration-color: #00af00\">128</span>,  │      <span style=\"color: #00af00; text-decoration-color: #00af00\">6,147</span> │ concatenate_6[<span style=\"color: #00af00; text-decoration-color: #00af00\">0</span>]… │\n",
              "│ (<span style=\"color: #0087ff; text-decoration-color: #0087ff\">Conv2DTranspose</span>)   │ <span style=\"color: #00af00; text-decoration-color: #00af00\">3</span>)                │            │                   │\n",
              "└─────────────────────┴───────────────────┴────────────┴───────────────────┘\n",
              "</pre>\n"
            ],
            "text/plain": [
              "┏━━━━━━━━━━━━━━━━━━━━━┳━━━━━━━━━━━━━━━━━━━┳━━━━━━━━━━━━┳━━━━━━━━━━━━━━━━━━━┓\n",
              "┃\u001b[1m \u001b[0m\u001b[1mLayer (type)       \u001b[0m\u001b[1m \u001b[0m┃\u001b[1m \u001b[0m\u001b[1mOutput Shape     \u001b[0m\u001b[1m \u001b[0m┃\u001b[1m \u001b[0m\u001b[1m   Param #\u001b[0m\u001b[1m \u001b[0m┃\u001b[1m \u001b[0m\u001b[1mConnected to     \u001b[0m\u001b[1m \u001b[0m┃\n",
              "┡━━━━━━━━━━━━━━━━━━━━━╇━━━━━━━━━━━━━━━━━━━╇━━━━━━━━━━━━╇━━━━━━━━━━━━━━━━━━━┩\n",
              "│ input_layer_4       │ (\u001b[38;5;45mNone\u001b[0m, \u001b[38;5;34m128\u001b[0m, \u001b[38;5;34m128\u001b[0m,  │          \u001b[38;5;34m0\u001b[0m │ -                 │\n",
              "│ (\u001b[38;5;33mInputLayer\u001b[0m)        │ \u001b[38;5;34m1\u001b[0m)                │            │                   │\n",
              "├─────────────────────┼───────────────────┼────────────┼───────────────────┤\n",
              "│ conv2d_9 (\u001b[38;5;33mConv2D\u001b[0m)   │ (\u001b[38;5;45mNone\u001b[0m, \u001b[38;5;34m64\u001b[0m, \u001b[38;5;34m64\u001b[0m,    │      \u001b[38;5;34m1,088\u001b[0m │ input_layer_4[\u001b[38;5;34m0\u001b[0m]… │\n",
              "│                     │ \u001b[38;5;34m64\u001b[0m)               │            │                   │\n",
              "├─────────────────────┼───────────────────┼────────────┼───────────────────┤\n",
              "│ conv2d_10 (\u001b[38;5;33mConv2D\u001b[0m)  │ (\u001b[38;5;45mNone\u001b[0m, \u001b[38;5;34m32\u001b[0m, \u001b[38;5;34m32\u001b[0m,    │    \u001b[38;5;34m131,200\u001b[0m │ conv2d_9[\u001b[38;5;34m0\u001b[0m][\u001b[38;5;34m0\u001b[0m]    │\n",
              "│                     │ \u001b[38;5;34m128\u001b[0m)              │            │                   │\n",
              "├─────────────────────┼───────────────────┼────────────┼───────────────────┤\n",
              "│ conv2d_11 (\u001b[38;5;33mConv2D\u001b[0m)  │ (\u001b[38;5;45mNone\u001b[0m, \u001b[38;5;34m16\u001b[0m, \u001b[38;5;34m16\u001b[0m,    │    \u001b[38;5;34m524,544\u001b[0m │ conv2d_10[\u001b[38;5;34m0\u001b[0m][\u001b[38;5;34m0\u001b[0m]   │\n",
              "│                     │ \u001b[38;5;34m256\u001b[0m)              │            │                   │\n",
              "├─────────────────────┼───────────────────┼────────────┼───────────────────┤\n",
              "│ conv2d_12 (\u001b[38;5;33mConv2D\u001b[0m)  │ (\u001b[38;5;45mNone\u001b[0m, \u001b[38;5;34m8\u001b[0m, \u001b[38;5;34m8\u001b[0m, \u001b[38;5;34m512\u001b[0m) │  \u001b[38;5;34m2,097,664\u001b[0m │ conv2d_11[\u001b[38;5;34m0\u001b[0m][\u001b[38;5;34m0\u001b[0m]   │\n",
              "├─────────────────────┼───────────────────┼────────────┼───────────────────┤\n",
              "│ conv2d_transpose_4  │ (\u001b[38;5;45mNone\u001b[0m, \u001b[38;5;34m16\u001b[0m, \u001b[38;5;34m16\u001b[0m,    │  \u001b[38;5;34m2,097,408\u001b[0m │ conv2d_12[\u001b[38;5;34m0\u001b[0m][\u001b[38;5;34m0\u001b[0m]   │\n",
              "│ (\u001b[38;5;33mConv2DTranspose\u001b[0m)   │ \u001b[38;5;34m256\u001b[0m)              │            │                   │\n",
              "├─────────────────────┼───────────────────┼────────────┼───────────────────┤\n",
              "│ concatenate_4       │ (\u001b[38;5;45mNone\u001b[0m, \u001b[38;5;34m16\u001b[0m, \u001b[38;5;34m16\u001b[0m,    │          \u001b[38;5;34m0\u001b[0m │ conv2d_transpose… │\n",
              "│ (\u001b[38;5;33mConcatenate\u001b[0m)       │ \u001b[38;5;34m512\u001b[0m)              │            │ conv2d_11[\u001b[38;5;34m0\u001b[0m][\u001b[38;5;34m0\u001b[0m]   │\n",
              "├─────────────────────┼───────────────────┼────────────┼───────────────────┤\n",
              "│ conv2d_transpose_5  │ (\u001b[38;5;45mNone\u001b[0m, \u001b[38;5;34m32\u001b[0m, \u001b[38;5;34m32\u001b[0m,    │  \u001b[38;5;34m1,048,704\u001b[0m │ concatenate_4[\u001b[38;5;34m0\u001b[0m]… │\n",
              "│ (\u001b[38;5;33mConv2DTranspose\u001b[0m)   │ \u001b[38;5;34m128\u001b[0m)              │            │                   │\n",
              "├─────────────────────┼───────────────────┼────────────┼───────────────────┤\n",
              "│ concatenate_5       │ (\u001b[38;5;45mNone\u001b[0m, \u001b[38;5;34m32\u001b[0m, \u001b[38;5;34m32\u001b[0m,    │          \u001b[38;5;34m0\u001b[0m │ conv2d_transpose… │\n",
              "│ (\u001b[38;5;33mConcatenate\u001b[0m)       │ \u001b[38;5;34m256\u001b[0m)              │            │ conv2d_10[\u001b[38;5;34m0\u001b[0m][\u001b[38;5;34m0\u001b[0m]   │\n",
              "├─────────────────────┼───────────────────┼────────────┼───────────────────┤\n",
              "│ conv2d_transpose_6  │ (\u001b[38;5;45mNone\u001b[0m, \u001b[38;5;34m64\u001b[0m, \u001b[38;5;34m64\u001b[0m,    │    \u001b[38;5;34m262,208\u001b[0m │ concatenate_5[\u001b[38;5;34m0\u001b[0m]… │\n",
              "│ (\u001b[38;5;33mConv2DTranspose\u001b[0m)   │ \u001b[38;5;34m64\u001b[0m)               │            │                   │\n",
              "├─────────────────────┼───────────────────┼────────────┼───────────────────┤\n",
              "│ concatenate_6       │ (\u001b[38;5;45mNone\u001b[0m, \u001b[38;5;34m64\u001b[0m, \u001b[38;5;34m64\u001b[0m,    │          \u001b[38;5;34m0\u001b[0m │ conv2d_transpose… │\n",
              "│ (\u001b[38;5;33mConcatenate\u001b[0m)       │ \u001b[38;5;34m128\u001b[0m)              │            │ conv2d_9[\u001b[38;5;34m0\u001b[0m][\u001b[38;5;34m0\u001b[0m]    │\n",
              "├─────────────────────┼───────────────────┼────────────┼───────────────────┤\n",
              "│ conv2d_transpose_7  │ (\u001b[38;5;45mNone\u001b[0m, \u001b[38;5;34m128\u001b[0m, \u001b[38;5;34m128\u001b[0m,  │      \u001b[38;5;34m6,147\u001b[0m │ concatenate_6[\u001b[38;5;34m0\u001b[0m]… │\n",
              "│ (\u001b[38;5;33mConv2DTranspose\u001b[0m)   │ \u001b[38;5;34m3\u001b[0m)                │            │                   │\n",
              "└─────────────────────┴───────────────────┴────────────┴───────────────────┘\n"
            ]
          },
          "metadata": {},
          "output_type": "display_data"
        },
        {
          "data": {
            "text/html": [
              "<pre style=\"white-space:pre;overflow-x:auto;line-height:normal;font-family:Menlo,'DejaVu Sans Mono',consolas,'Courier New',monospace\"><span style=\"font-weight: bold\"> Total params: </span><span style=\"color: #00af00; text-decoration-color: #00af00\">6,168,963</span> (23.53 MB)\n",
              "</pre>\n"
            ],
            "text/plain": [
              "\u001b[1m Total params: \u001b[0m\u001b[38;5;34m6,168,963\u001b[0m (23.53 MB)\n"
            ]
          },
          "metadata": {},
          "output_type": "display_data"
        },
        {
          "data": {
            "text/html": [
              "<pre style=\"white-space:pre;overflow-x:auto;line-height:normal;font-family:Menlo,'DejaVu Sans Mono',consolas,'Courier New',monospace\"><span style=\"font-weight: bold\"> Trainable params: </span><span style=\"color: #00af00; text-decoration-color: #00af00\">6,168,963</span> (23.53 MB)\n",
              "</pre>\n"
            ],
            "text/plain": [
              "\u001b[1m Trainable params: \u001b[0m\u001b[38;5;34m6,168,963\u001b[0m (23.53 MB)\n"
            ]
          },
          "metadata": {},
          "output_type": "display_data"
        },
        {
          "data": {
            "text/html": [
              "<pre style=\"white-space:pre;overflow-x:auto;line-height:normal;font-family:Menlo,'DejaVu Sans Mono',consolas,'Courier New',monospace\"><span style=\"font-weight: bold\"> Non-trainable params: </span><span style=\"color: #00af00; text-decoration-color: #00af00\">0</span> (0.00 B)\n",
              "</pre>\n"
            ],
            "text/plain": [
              "\u001b[1m Non-trainable params: \u001b[0m\u001b[38;5;34m0\u001b[0m (0.00 B)\n"
            ]
          },
          "metadata": {},
          "output_type": "display_data"
        },
        {
          "data": {
            "text/html": [
              "<pre style=\"white-space:pre;overflow-x:auto;line-height:normal;font-family:Menlo,'DejaVu Sans Mono',consolas,'Courier New',monospace\"><span style=\"font-weight: bold\">Model: \"discriminator\"</span>\n",
              "</pre>\n"
            ],
            "text/plain": [
              "\u001b[1mModel: \"discriminator\"\u001b[0m\n"
            ]
          },
          "metadata": {},
          "output_type": "display_data"
        },
        {
          "data": {
            "text/html": [
              "<pre style=\"white-space:pre;overflow-x:auto;line-height:normal;font-family:Menlo,'DejaVu Sans Mono',consolas,'Courier New',monospace\">┏━━━━━━━━━━━━━━━━━━━━━┳━━━━━━━━━━━━━━━━━━━┳━━━━━━━━━━━━┳━━━━━━━━━━━━━━━━━━━┓\n",
              "┃<span style=\"font-weight: bold\"> Layer (type)        </span>┃<span style=\"font-weight: bold\"> Output Shape      </span>┃<span style=\"font-weight: bold\">    Param # </span>┃<span style=\"font-weight: bold\"> Connected to      </span>┃\n",
              "┡━━━━━━━━━━━━━━━━━━━━━╇━━━━━━━━━━━━━━━━━━━╇━━━━━━━━━━━━╇━━━━━━━━━━━━━━━━━━━┩\n",
              "│ input_layer_5       │ (<span style=\"color: #00d7ff; text-decoration-color: #00d7ff\">None</span>, <span style=\"color: #00af00; text-decoration-color: #00af00\">128</span>, <span style=\"color: #00af00; text-decoration-color: #00af00\">128</span>,  │          <span style=\"color: #00af00; text-decoration-color: #00af00\">0</span> │ -                 │\n",
              "│ (<span style=\"color: #0087ff; text-decoration-color: #0087ff\">InputLayer</span>)        │ <span style=\"color: #00af00; text-decoration-color: #00af00\">1</span>)                │            │                   │\n",
              "├─────────────────────┼───────────────────┼────────────┼───────────────────┤\n",
              "│ input_layer_6       │ (<span style=\"color: #00d7ff; text-decoration-color: #00d7ff\">None</span>, <span style=\"color: #00af00; text-decoration-color: #00af00\">128</span>, <span style=\"color: #00af00; text-decoration-color: #00af00\">128</span>,  │          <span style=\"color: #00af00; text-decoration-color: #00af00\">0</span> │ -                 │\n",
              "│ (<span style=\"color: #0087ff; text-decoration-color: #0087ff\">InputLayer</span>)        │ <span style=\"color: #00af00; text-decoration-color: #00af00\">3</span>)                │            │                   │\n",
              "├─────────────────────┼───────────────────┼────────────┼───────────────────┤\n",
              "│ concatenate_7       │ (<span style=\"color: #00d7ff; text-decoration-color: #00d7ff\">None</span>, <span style=\"color: #00af00; text-decoration-color: #00af00\">128</span>, <span style=\"color: #00af00; text-decoration-color: #00af00\">128</span>,  │          <span style=\"color: #00af00; text-decoration-color: #00af00\">0</span> │ input_layer_5[<span style=\"color: #00af00; text-decoration-color: #00af00\">0</span>]… │\n",
              "│ (<span style=\"color: #0087ff; text-decoration-color: #0087ff\">Concatenate</span>)       │ <span style=\"color: #00af00; text-decoration-color: #00af00\">4</span>)                │            │ input_layer_6[<span style=\"color: #00af00; text-decoration-color: #00af00\">0</span>]… │\n",
              "├─────────────────────┼───────────────────┼────────────┼───────────────────┤\n",
              "│ conv2d_13 (<span style=\"color: #0087ff; text-decoration-color: #0087ff\">Conv2D</span>)  │ (<span style=\"color: #00d7ff; text-decoration-color: #00d7ff\">None</span>, <span style=\"color: #00af00; text-decoration-color: #00af00\">64</span>, <span style=\"color: #00af00; text-decoration-color: #00af00\">64</span>,    │      <span style=\"color: #00af00; text-decoration-color: #00af00\">4,160</span> │ concatenate_7[<span style=\"color: #00af00; text-decoration-color: #00af00\">0</span>]… │\n",
              "│                     │ <span style=\"color: #00af00; text-decoration-color: #00af00\">64</span>)               │            │                   │\n",
              "├─────────────────────┼───────────────────┼────────────┼───────────────────┤\n",
              "│ conv2d_14 (<span style=\"color: #0087ff; text-decoration-color: #0087ff\">Conv2D</span>)  │ (<span style=\"color: #00d7ff; text-decoration-color: #00d7ff\">None</span>, <span style=\"color: #00af00; text-decoration-color: #00af00\">32</span>, <span style=\"color: #00af00; text-decoration-color: #00af00\">32</span>,    │    <span style=\"color: #00af00; text-decoration-color: #00af00\">131,200</span> │ conv2d_13[<span style=\"color: #00af00; text-decoration-color: #00af00\">0</span>][<span style=\"color: #00af00; text-decoration-color: #00af00\">0</span>]   │\n",
              "│                     │ <span style=\"color: #00af00; text-decoration-color: #00af00\">128</span>)              │            │                   │\n",
              "├─────────────────────┼───────────────────┼────────────┼───────────────────┤\n",
              "│ conv2d_15 (<span style=\"color: #0087ff; text-decoration-color: #0087ff\">Conv2D</span>)  │ (<span style=\"color: #00d7ff; text-decoration-color: #00d7ff\">None</span>, <span style=\"color: #00af00; text-decoration-color: #00af00\">16</span>, <span style=\"color: #00af00; text-decoration-color: #00af00\">16</span>,    │    <span style=\"color: #00af00; text-decoration-color: #00af00\">524,544</span> │ conv2d_14[<span style=\"color: #00af00; text-decoration-color: #00af00\">0</span>][<span style=\"color: #00af00; text-decoration-color: #00af00\">0</span>]   │\n",
              "│                     │ <span style=\"color: #00af00; text-decoration-color: #00af00\">256</span>)              │            │                   │\n",
              "├─────────────────────┼───────────────────┼────────────┼───────────────────┤\n",
              "│ conv2d_16 (<span style=\"color: #0087ff; text-decoration-color: #0087ff\">Conv2D</span>)  │ (<span style=\"color: #00d7ff; text-decoration-color: #00d7ff\">None</span>, <span style=\"color: #00af00; text-decoration-color: #00af00\">8</span>, <span style=\"color: #00af00; text-decoration-color: #00af00\">8</span>, <span style=\"color: #00af00; text-decoration-color: #00af00\">512</span>) │  <span style=\"color: #00af00; text-decoration-color: #00af00\">2,097,664</span> │ conv2d_15[<span style=\"color: #00af00; text-decoration-color: #00af00\">0</span>][<span style=\"color: #00af00; text-decoration-color: #00af00\">0</span>]   │\n",
              "├─────────────────────┼───────────────────┼────────────┼───────────────────┤\n",
              "│ conv2d_17 (<span style=\"color: #0087ff; text-decoration-color: #0087ff\">Conv2D</span>)  │ (<span style=\"color: #00d7ff; text-decoration-color: #00d7ff\">None</span>, <span style=\"color: #00af00; text-decoration-color: #00af00\">8</span>, <span style=\"color: #00af00; text-decoration-color: #00af00\">8</span>, <span style=\"color: #00af00; text-decoration-color: #00af00\">1</span>)   │      <span style=\"color: #00af00; text-decoration-color: #00af00\">8,193</span> │ conv2d_16[<span style=\"color: #00af00; text-decoration-color: #00af00\">0</span>][<span style=\"color: #00af00; text-decoration-color: #00af00\">0</span>]   │\n",
              "└─────────────────────┴───────────────────┴────────────┴───────────────────┘\n",
              "</pre>\n"
            ],
            "text/plain": [
              "┏━━━━━━━━━━━━━━━━━━━━━┳━━━━━━━━━━━━━━━━━━━┳━━━━━━━━━━━━┳━━━━━━━━━━━━━━━━━━━┓\n",
              "┃\u001b[1m \u001b[0m\u001b[1mLayer (type)       \u001b[0m\u001b[1m \u001b[0m┃\u001b[1m \u001b[0m\u001b[1mOutput Shape     \u001b[0m\u001b[1m \u001b[0m┃\u001b[1m \u001b[0m\u001b[1m   Param #\u001b[0m\u001b[1m \u001b[0m┃\u001b[1m \u001b[0m\u001b[1mConnected to     \u001b[0m\u001b[1m \u001b[0m┃\n",
              "┡━━━━━━━━━━━━━━━━━━━━━╇━━━━━━━━━━━━━━━━━━━╇━━━━━━━━━━━━╇━━━━━━━━━━━━━━━━━━━┩\n",
              "│ input_layer_5       │ (\u001b[38;5;45mNone\u001b[0m, \u001b[38;5;34m128\u001b[0m, \u001b[38;5;34m128\u001b[0m,  │          \u001b[38;5;34m0\u001b[0m │ -                 │\n",
              "│ (\u001b[38;5;33mInputLayer\u001b[0m)        │ \u001b[38;5;34m1\u001b[0m)                │            │                   │\n",
              "├─────────────────────┼───────────────────┼────────────┼───────────────────┤\n",
              "│ input_layer_6       │ (\u001b[38;5;45mNone\u001b[0m, \u001b[38;5;34m128\u001b[0m, \u001b[38;5;34m128\u001b[0m,  │          \u001b[38;5;34m0\u001b[0m │ -                 │\n",
              "│ (\u001b[38;5;33mInputLayer\u001b[0m)        │ \u001b[38;5;34m3\u001b[0m)                │            │                   │\n",
              "├─────────────────────┼───────────────────┼────────────┼───────────────────┤\n",
              "│ concatenate_7       │ (\u001b[38;5;45mNone\u001b[0m, \u001b[38;5;34m128\u001b[0m, \u001b[38;5;34m128\u001b[0m,  │          \u001b[38;5;34m0\u001b[0m │ input_layer_5[\u001b[38;5;34m0\u001b[0m]… │\n",
              "│ (\u001b[38;5;33mConcatenate\u001b[0m)       │ \u001b[38;5;34m4\u001b[0m)                │            │ input_layer_6[\u001b[38;5;34m0\u001b[0m]… │\n",
              "├─────────────────────┼───────────────────┼────────────┼───────────────────┤\n",
              "│ conv2d_13 (\u001b[38;5;33mConv2D\u001b[0m)  │ (\u001b[38;5;45mNone\u001b[0m, \u001b[38;5;34m64\u001b[0m, \u001b[38;5;34m64\u001b[0m,    │      \u001b[38;5;34m4,160\u001b[0m │ concatenate_7[\u001b[38;5;34m0\u001b[0m]… │\n",
              "│                     │ \u001b[38;5;34m64\u001b[0m)               │            │                   │\n",
              "├─────────────────────┼───────────────────┼────────────┼───────────────────┤\n",
              "│ conv2d_14 (\u001b[38;5;33mConv2D\u001b[0m)  │ (\u001b[38;5;45mNone\u001b[0m, \u001b[38;5;34m32\u001b[0m, \u001b[38;5;34m32\u001b[0m,    │    \u001b[38;5;34m131,200\u001b[0m │ conv2d_13[\u001b[38;5;34m0\u001b[0m][\u001b[38;5;34m0\u001b[0m]   │\n",
              "│                     │ \u001b[38;5;34m128\u001b[0m)              │            │                   │\n",
              "├─────────────────────┼───────────────────┼────────────┼───────────────────┤\n",
              "│ conv2d_15 (\u001b[38;5;33mConv2D\u001b[0m)  │ (\u001b[38;5;45mNone\u001b[0m, \u001b[38;5;34m16\u001b[0m, \u001b[38;5;34m16\u001b[0m,    │    \u001b[38;5;34m524,544\u001b[0m │ conv2d_14[\u001b[38;5;34m0\u001b[0m][\u001b[38;5;34m0\u001b[0m]   │\n",
              "│                     │ \u001b[38;5;34m256\u001b[0m)              │            │                   │\n",
              "├─────────────────────┼───────────────────┼────────────┼───────────────────┤\n",
              "│ conv2d_16 (\u001b[38;5;33mConv2D\u001b[0m)  │ (\u001b[38;5;45mNone\u001b[0m, \u001b[38;5;34m8\u001b[0m, \u001b[38;5;34m8\u001b[0m, \u001b[38;5;34m512\u001b[0m) │  \u001b[38;5;34m2,097,664\u001b[0m │ conv2d_15[\u001b[38;5;34m0\u001b[0m][\u001b[38;5;34m0\u001b[0m]   │\n",
              "├─────────────────────┼───────────────────┼────────────┼───────────────────┤\n",
              "│ conv2d_17 (\u001b[38;5;33mConv2D\u001b[0m)  │ (\u001b[38;5;45mNone\u001b[0m, \u001b[38;5;34m8\u001b[0m, \u001b[38;5;34m8\u001b[0m, \u001b[38;5;34m1\u001b[0m)   │      \u001b[38;5;34m8,193\u001b[0m │ conv2d_16[\u001b[38;5;34m0\u001b[0m][\u001b[38;5;34m0\u001b[0m]   │\n",
              "└─────────────────────┴───────────────────┴────────────┴───────────────────┘\n"
            ]
          },
          "metadata": {},
          "output_type": "display_data"
        },
        {
          "data": {
            "text/html": [
              "<pre style=\"white-space:pre;overflow-x:auto;line-height:normal;font-family:Menlo,'DejaVu Sans Mono',consolas,'Courier New',monospace\"><span style=\"font-weight: bold\"> Total params: </span><span style=\"color: #00af00; text-decoration-color: #00af00\">2,765,761</span> (10.55 MB)\n",
              "</pre>\n"
            ],
            "text/plain": [
              "\u001b[1m Total params: \u001b[0m\u001b[38;5;34m2,765,761\u001b[0m (10.55 MB)\n"
            ]
          },
          "metadata": {},
          "output_type": "display_data"
        },
        {
          "data": {
            "text/html": [
              "<pre style=\"white-space:pre;overflow-x:auto;line-height:normal;font-family:Menlo,'DejaVu Sans Mono',consolas,'Courier New',monospace\"><span style=\"font-weight: bold\"> Trainable params: </span><span style=\"color: #00af00; text-decoration-color: #00af00\">0</span> (0.00 B)\n",
              "</pre>\n"
            ],
            "text/plain": [
              "\u001b[1m Trainable params: \u001b[0m\u001b[38;5;34m0\u001b[0m (0.00 B)\n"
            ]
          },
          "metadata": {},
          "output_type": "display_data"
        },
        {
          "data": {
            "text/html": [
              "<pre style=\"white-space:pre;overflow-x:auto;line-height:normal;font-family:Menlo,'DejaVu Sans Mono',consolas,'Courier New',monospace\"><span style=\"font-weight: bold\"> Non-trainable params: </span><span style=\"color: #00af00; text-decoration-color: #00af00\">2,765,761</span> (10.55 MB)\n",
              "</pre>\n"
            ],
            "text/plain": [
              "\u001b[1m Non-trainable params: \u001b[0m\u001b[38;5;34m2,765,761\u001b[0m (10.55 MB)\n"
            ]
          },
          "metadata": {},
          "output_type": "display_data"
        },
        {
          "data": {
            "text/html": [
              "<pre style=\"white-space:pre;overflow-x:auto;line-height:normal;font-family:Menlo,'DejaVu Sans Mono',consolas,'Courier New',monospace\"><span style=\"font-weight: bold\">Model: \"gan\"</span>\n",
              "</pre>\n"
            ],
            "text/plain": [
              "\u001b[1mModel: \"gan\"\u001b[0m\n"
            ]
          },
          "metadata": {},
          "output_type": "display_data"
        },
        {
          "data": {
            "text/html": [
              "<pre style=\"white-space:pre;overflow-x:auto;line-height:normal;font-family:Menlo,'DejaVu Sans Mono',consolas,'Courier New',monospace\">┏━━━━━━━━━━━━━━━━━━━━━┳━━━━━━━━━━━━━━━━━━━┳━━━━━━━━━━━━┳━━━━━━━━━━━━━━━━━━━┓\n",
              "┃<span style=\"font-weight: bold\"> Layer (type)        </span>┃<span style=\"font-weight: bold\"> Output Shape      </span>┃<span style=\"font-weight: bold\">    Param # </span>┃<span style=\"font-weight: bold\"> Connected to      </span>┃\n",
              "┡━━━━━━━━━━━━━━━━━━━━━╇━━━━━━━━━━━━━━━━━━━╇━━━━━━━━━━━━╇━━━━━━━━━━━━━━━━━━━┩\n",
              "│ input_layer_7       │ (<span style=\"color: #00d7ff; text-decoration-color: #00d7ff\">None</span>, <span style=\"color: #00af00; text-decoration-color: #00af00\">128</span>, <span style=\"color: #00af00; text-decoration-color: #00af00\">128</span>,  │          <span style=\"color: #00af00; text-decoration-color: #00af00\">0</span> │ -                 │\n",
              "│ (<span style=\"color: #0087ff; text-decoration-color: #0087ff\">InputLayer</span>)        │ <span style=\"color: #00af00; text-decoration-color: #00af00\">1</span>)                │            │                   │\n",
              "├─────────────────────┼───────────────────┼────────────┼───────────────────┤\n",
              "│ generator           │ (<span style=\"color: #00d7ff; text-decoration-color: #00d7ff\">None</span>, <span style=\"color: #00af00; text-decoration-color: #00af00\">128</span>, <span style=\"color: #00af00; text-decoration-color: #00af00\">128</span>,  │  <span style=\"color: #00af00; text-decoration-color: #00af00\">6,168,963</span> │ input_layer_7[<span style=\"color: #00af00; text-decoration-color: #00af00\">0</span>]… │\n",
              "│ (<span style=\"color: #0087ff; text-decoration-color: #0087ff\">Functional</span>)        │ <span style=\"color: #00af00; text-decoration-color: #00af00\">3</span>)                │            │                   │\n",
              "├─────────────────────┼───────────────────┼────────────┼───────────────────┤\n",
              "│ discriminator       │ (<span style=\"color: #00d7ff; text-decoration-color: #00d7ff\">None</span>, <span style=\"color: #00af00; text-decoration-color: #00af00\">8</span>, <span style=\"color: #00af00; text-decoration-color: #00af00\">8</span>, <span style=\"color: #00af00; text-decoration-color: #00af00\">1</span>)   │  <span style=\"color: #00af00; text-decoration-color: #00af00\">2,765,761</span> │ input_layer_7[<span style=\"color: #00af00; text-decoration-color: #00af00\">0</span>]… │\n",
              "│ (<span style=\"color: #0087ff; text-decoration-color: #0087ff\">Functional</span>)        │                   │            │ generator[<span style=\"color: #00af00; text-decoration-color: #00af00\">0</span>][<span style=\"color: #00af00; text-decoration-color: #00af00\">0</span>]   │\n",
              "└─────────────────────┴───────────────────┴────────────┴───────────────────┘\n",
              "</pre>\n"
            ],
            "text/plain": [
              "┏━━━━━━━━━━━━━━━━━━━━━┳━━━━━━━━━━━━━━━━━━━┳━━━━━━━━━━━━┳━━━━━━━━━━━━━━━━━━━┓\n",
              "┃\u001b[1m \u001b[0m\u001b[1mLayer (type)       \u001b[0m\u001b[1m \u001b[0m┃\u001b[1m \u001b[0m\u001b[1mOutput Shape     \u001b[0m\u001b[1m \u001b[0m┃\u001b[1m \u001b[0m\u001b[1m   Param #\u001b[0m\u001b[1m \u001b[0m┃\u001b[1m \u001b[0m\u001b[1mConnected to     \u001b[0m\u001b[1m \u001b[0m┃\n",
              "┡━━━━━━━━━━━━━━━━━━━━━╇━━━━━━━━━━━━━━━━━━━╇━━━━━━━━━━━━╇━━━━━━━━━━━━━━━━━━━┩\n",
              "│ input_layer_7       │ (\u001b[38;5;45mNone\u001b[0m, \u001b[38;5;34m128\u001b[0m, \u001b[38;5;34m128\u001b[0m,  │          \u001b[38;5;34m0\u001b[0m │ -                 │\n",
              "│ (\u001b[38;5;33mInputLayer\u001b[0m)        │ \u001b[38;5;34m1\u001b[0m)                │            │                   │\n",
              "├─────────────────────┼───────────────────┼────────────┼───────────────────┤\n",
              "│ generator           │ (\u001b[38;5;45mNone\u001b[0m, \u001b[38;5;34m128\u001b[0m, \u001b[38;5;34m128\u001b[0m,  │  \u001b[38;5;34m6,168,963\u001b[0m │ input_layer_7[\u001b[38;5;34m0\u001b[0m]… │\n",
              "│ (\u001b[38;5;33mFunctional\u001b[0m)        │ \u001b[38;5;34m3\u001b[0m)                │            │                   │\n",
              "├─────────────────────┼───────────────────┼────────────┼───────────────────┤\n",
              "│ discriminator       │ (\u001b[38;5;45mNone\u001b[0m, \u001b[38;5;34m8\u001b[0m, \u001b[38;5;34m8\u001b[0m, \u001b[38;5;34m1\u001b[0m)   │  \u001b[38;5;34m2,765,761\u001b[0m │ input_layer_7[\u001b[38;5;34m0\u001b[0m]… │\n",
              "│ (\u001b[38;5;33mFunctional\u001b[0m)        │                   │            │ generator[\u001b[38;5;34m0\u001b[0m][\u001b[38;5;34m0\u001b[0m]   │\n",
              "└─────────────────────┴───────────────────┴────────────┴───────────────────┘\n"
            ]
          },
          "metadata": {},
          "output_type": "display_data"
        },
        {
          "data": {
            "text/html": [
              "<pre style=\"white-space:pre;overflow-x:auto;line-height:normal;font-family:Menlo,'DejaVu Sans Mono',consolas,'Courier New',monospace\"><span style=\"font-weight: bold\"> Total params: </span><span style=\"color: #00af00; text-decoration-color: #00af00\">8,934,724</span> (34.08 MB)\n",
              "</pre>\n"
            ],
            "text/plain": [
              "\u001b[1m Total params: \u001b[0m\u001b[38;5;34m8,934,724\u001b[0m (34.08 MB)\n"
            ]
          },
          "metadata": {},
          "output_type": "display_data"
        },
        {
          "data": {
            "text/html": [
              "<pre style=\"white-space:pre;overflow-x:auto;line-height:normal;font-family:Menlo,'DejaVu Sans Mono',consolas,'Courier New',monospace\"><span style=\"font-weight: bold\"> Trainable params: </span><span style=\"color: #00af00; text-decoration-color: #00af00\">6,168,963</span> (23.53 MB)\n",
              "</pre>\n"
            ],
            "text/plain": [
              "\u001b[1m Trainable params: \u001b[0m\u001b[38;5;34m6,168,963\u001b[0m (23.53 MB)\n"
            ]
          },
          "metadata": {},
          "output_type": "display_data"
        },
        {
          "data": {
            "text/html": [
              "<pre style=\"white-space:pre;overflow-x:auto;line-height:normal;font-family:Menlo,'DejaVu Sans Mono',consolas,'Courier New',monospace\"><span style=\"font-weight: bold\"> Non-trainable params: </span><span style=\"color: #00af00; text-decoration-color: #00af00\">2,765,761</span> (10.55 MB)\n",
              "</pre>\n"
            ],
            "text/plain": [
              "\u001b[1m Non-trainable params: \u001b[0m\u001b[38;5;34m2,765,761\u001b[0m (10.55 MB)\n"
            ]
          },
          "metadata": {},
          "output_type": "display_data"
        },
        {
          "name": "stdout",
          "output_type": "stream",
          "text": [
            "Generator trainable weights: 16\n",
            "Discriminator trainable weights: 0\n",
            "GAN trainable weights: 16\n",
            "Epoch 1/100\n"
          ]
        },
        {
          "name": "stderr",
          "output_type": "stream",
          "text": [
            "Training batches: 100%|██████████| 50/50 [00:11<00:00,  4.40it/s]\n"
          ]
        },
        {
          "name": "stdout",
          "output_type": "stream",
          "text": [
            "Discriminator Loss: 0.6931, Generator Loss: 11.7132\n",
            "Epoch 2/100\n"
          ]
        },
        {
          "name": "stderr",
          "output_type": "stream",
          "text": [
            "Training batches: 100%|██████████| 50/50 [00:07<00:00,  7.00it/s]\n"
          ]
        },
        {
          "name": "stdout",
          "output_type": "stream",
          "text": [
            "Discriminator Loss: 0.6930, Generator Loss: 8.7834\n",
            "Epoch 3/100\n"
          ]
        },
        {
          "name": "stderr",
          "output_type": "stream",
          "text": [
            "Training batches: 100%|██████████| 50/50 [00:07<00:00,  6.55it/s]\n"
          ]
        },
        {
          "name": "stdout",
          "output_type": "stream",
          "text": [
            "Discriminator Loss: 0.6930, Generator Loss: 7.4620\n",
            "Epoch 4/100\n"
          ]
        },
        {
          "name": "stderr",
          "output_type": "stream",
          "text": [
            "Training batches: 100%|██████████| 50/50 [00:06<00:00,  7.47it/s]\n"
          ]
        },
        {
          "name": "stdout",
          "output_type": "stream",
          "text": [
            "Discriminator Loss: 0.6929, Generator Loss: 6.7579\n",
            "Epoch 5/100\n"
          ]
        },
        {
          "name": "stderr",
          "output_type": "stream",
          "text": [
            "Training batches: 100%|██████████| 50/50 [00:07<00:00,  6.63it/s]\n"
          ]
        },
        {
          "name": "stdout",
          "output_type": "stream",
          "text": [
            "Discriminator Loss: 0.6929, Generator Loss: 6.2454\n",
            "Epoch 6/100\n"
          ]
        },
        {
          "name": "stderr",
          "output_type": "stream",
          "text": [
            "Training batches: 100%|██████████| 50/50 [00:06<00:00,  7.39it/s]\n"
          ]
        },
        {
          "name": "stdout",
          "output_type": "stream",
          "text": [
            "Discriminator Loss: 0.6929, Generator Loss: 5.9204\n",
            "Epoch 7/100\n"
          ]
        },
        {
          "name": "stderr",
          "output_type": "stream",
          "text": [
            "Training batches: 100%|██████████| 50/50 [00:07<00:00,  6.50it/s]\n"
          ]
        },
        {
          "name": "stdout",
          "output_type": "stream",
          "text": [
            "Discriminator Loss: 0.6929, Generator Loss: 5.6340\n",
            "Epoch 8/100\n"
          ]
        },
        {
          "name": "stderr",
          "output_type": "stream",
          "text": [
            "Training batches: 100%|██████████| 50/50 [00:06<00:00,  7.25it/s]\n"
          ]
        },
        {
          "name": "stdout",
          "output_type": "stream",
          "text": [
            "Discriminator Loss: 0.6929, Generator Loss: 5.4030\n",
            "Epoch 9/100\n"
          ]
        },
        {
          "name": "stderr",
          "output_type": "stream",
          "text": [
            "Training batches: 100%|██████████| 50/50 [00:07<00:00,  6.42it/s]\n"
          ]
        },
        {
          "name": "stdout",
          "output_type": "stream",
          "text": [
            "Discriminator Loss: 0.6929, Generator Loss: 5.2117\n",
            "Epoch 10/100\n"
          ]
        },
        {
          "name": "stderr",
          "output_type": "stream",
          "text": [
            "Training batches: 100%|██████████| 50/50 [00:07<00:00,  6.62it/s]\n",
            "WARNING:absl:You are saving your model as an HDF5 file via `model.save()` or `keras.saving.save_model(model)`. This file format is considered legacy. We recommend using instead the native Keras format, e.g. `model.save('my_model.keras')` or `keras.saving.save_model(model, 'my_model.keras')`. \n"
          ]
        },
        {
          "name": "stdout",
          "output_type": "stream",
          "text": [
            "Discriminator Loss: 0.6929, Generator Loss: 5.0448\n",
            "Saved checkpoint at epoch 10\n",
            "Epoch 11/100\n"
          ]
        },
        {
          "name": "stderr",
          "output_type": "stream",
          "text": [
            "Training batches: 100%|██████████| 50/50 [00:07<00:00,  7.06it/s]\n"
          ]
        },
        {
          "name": "stdout",
          "output_type": "stream",
          "text": [
            "Discriminator Loss: 0.6929, Generator Loss: 4.9049\n",
            "Epoch 12/100\n"
          ]
        },
        {
          "name": "stderr",
          "output_type": "stream",
          "text": [
            "Training batches: 100%|██████████| 50/50 [00:07<00:00,  6.44it/s]\n"
          ]
        },
        {
          "name": "stdout",
          "output_type": "stream",
          "text": [
            "Discriminator Loss: 0.6929, Generator Loss: 4.7885\n",
            "Epoch 13/100\n"
          ]
        },
        {
          "name": "stderr",
          "output_type": "stream",
          "text": [
            "Training batches: 100%|██████████| 50/50 [00:06<00:00,  7.40it/s]\n"
          ]
        },
        {
          "name": "stdout",
          "output_type": "stream",
          "text": [
            "Discriminator Loss: 0.6929, Generator Loss: 4.6796\n",
            "Epoch 14/100\n"
          ]
        },
        {
          "name": "stderr",
          "output_type": "stream",
          "text": [
            "Training batches: 100%|██████████| 50/50 [00:07<00:00,  6.50it/s]\n"
          ]
        },
        {
          "name": "stdout",
          "output_type": "stream",
          "text": [
            "Discriminator Loss: 0.6929, Generator Loss: 4.5742\n",
            "Epoch 15/100\n"
          ]
        },
        {
          "name": "stderr",
          "output_type": "stream",
          "text": [
            "Training batches: 100%|██████████| 50/50 [00:06<00:00,  7.37it/s]\n"
          ]
        },
        {
          "name": "stdout",
          "output_type": "stream",
          "text": [
            "Discriminator Loss: 0.6929, Generator Loss: 4.4760\n",
            "Epoch 16/100\n"
          ]
        },
        {
          "name": "stderr",
          "output_type": "stream",
          "text": [
            "Training batches: 100%|██████████| 50/50 [00:07<00:00,  6.59it/s]\n"
          ]
        },
        {
          "name": "stdout",
          "output_type": "stream",
          "text": [
            "Discriminator Loss: 0.6929, Generator Loss: 4.3973\n",
            "Epoch 17/100\n"
          ]
        },
        {
          "name": "stderr",
          "output_type": "stream",
          "text": [
            "Training batches: 100%|██████████| 50/50 [00:07<00:00,  6.97it/s]\n"
          ]
        },
        {
          "name": "stdout",
          "output_type": "stream",
          "text": [
            "Discriminator Loss: 0.6929, Generator Loss: 4.3125\n",
            "Epoch 18/100\n"
          ]
        },
        {
          "name": "stderr",
          "output_type": "stream",
          "text": [
            "Training batches: 100%|██████████| 50/50 [00:07<00:00,  6.82it/s]\n"
          ]
        },
        {
          "name": "stdout",
          "output_type": "stream",
          "text": [
            "Discriminator Loss: 0.6928, Generator Loss: 4.2420\n",
            "Epoch 19/100\n"
          ]
        },
        {
          "name": "stderr",
          "output_type": "stream",
          "text": [
            "Training batches: 100%|██████████| 50/50 [00:07<00:00,  6.57it/s]\n"
          ]
        },
        {
          "name": "stdout",
          "output_type": "stream",
          "text": [
            "Discriminator Loss: 0.6928, Generator Loss: 4.1764\n",
            "Epoch 20/100\n"
          ]
        },
        {
          "name": "stderr",
          "output_type": "stream",
          "text": [
            "Training batches: 100%|██████████| 50/50 [00:06<00:00,  7.30it/s]\n",
            "WARNING:absl:You are saving your model as an HDF5 file via `model.save()` or `keras.saving.save_model(model)`. This file format is considered legacy. We recommend using instead the native Keras format, e.g. `model.save('my_model.keras')` or `keras.saving.save_model(model, 'my_model.keras')`. \n"
          ]
        },
        {
          "name": "stdout",
          "output_type": "stream",
          "text": [
            "Discriminator Loss: 0.6928, Generator Loss: 4.1147\n",
            "Saved checkpoint at epoch 20\n",
            "Epoch 21/100\n"
          ]
        },
        {
          "name": "stderr",
          "output_type": "stream",
          "text": [
            "Training batches: 100%|██████████| 50/50 [00:07<00:00,  6.47it/s]\n"
          ]
        },
        {
          "name": "stdout",
          "output_type": "stream",
          "text": [
            "Discriminator Loss: 0.6928, Generator Loss: 4.0554\n",
            "Epoch 22/100\n"
          ]
        },
        {
          "name": "stderr",
          "output_type": "stream",
          "text": [
            "Training batches: 100%|██████████| 50/50 [00:07<00:00,  7.03it/s]\n"
          ]
        },
        {
          "name": "stdout",
          "output_type": "stream",
          "text": [
            "Discriminator Loss: 0.6928, Generator Loss: 3.9950\n",
            "Epoch 23/100\n"
          ]
        },
        {
          "name": "stderr",
          "output_type": "stream",
          "text": [
            "Training batches: 100%|██████████| 50/50 [00:07<00:00,  6.55it/s]\n"
          ]
        },
        {
          "name": "stdout",
          "output_type": "stream",
          "text": [
            "Discriminator Loss: 0.6928, Generator Loss: 3.9471\n",
            "Epoch 24/100\n"
          ]
        },
        {
          "name": "stderr",
          "output_type": "stream",
          "text": [
            "Training batches: 100%|██████████| 50/50 [00:06<00:00,  7.19it/s]\n"
          ]
        },
        {
          "name": "stdout",
          "output_type": "stream",
          "text": [
            "Discriminator Loss: 0.6928, Generator Loss: 3.9089\n",
            "Epoch 25/100\n"
          ]
        },
        {
          "name": "stderr",
          "output_type": "stream",
          "text": [
            "Training batches: 100%|██████████| 50/50 [00:07<00:00,  6.55it/s]\n"
          ]
        },
        {
          "name": "stdout",
          "output_type": "stream",
          "text": [
            "Discriminator Loss: 0.6928, Generator Loss: 3.8716\n",
            "Epoch 26/100\n"
          ]
        },
        {
          "name": "stderr",
          "output_type": "stream",
          "text": [
            "Training batches: 100%|██████████| 50/50 [00:07<00:00,  6.71it/s]\n"
          ]
        },
        {
          "name": "stdout",
          "output_type": "stream",
          "text": [
            "Discriminator Loss: 0.6928, Generator Loss: 3.8329\n",
            "Epoch 27/100\n"
          ]
        },
        {
          "name": "stderr",
          "output_type": "stream",
          "text": [
            "Training batches: 100%|██████████| 50/50 [00:07<00:00,  6.61it/s]\n"
          ]
        },
        {
          "name": "stdout",
          "output_type": "stream",
          "text": [
            "Discriminator Loss: 0.6928, Generator Loss: 3.7985\n",
            "Epoch 28/100\n"
          ]
        },
        {
          "name": "stderr",
          "output_type": "stream",
          "text": [
            "Training batches: 100%|██████████| 50/50 [00:07<00:00,  6.33it/s]\n"
          ]
        },
        {
          "name": "stdout",
          "output_type": "stream",
          "text": [
            "Discriminator Loss: 0.6928, Generator Loss: 3.7664\n",
            "Epoch 29/100\n"
          ]
        },
        {
          "name": "stderr",
          "output_type": "stream",
          "text": [
            "Training batches: 100%|██████████| 50/50 [00:06<00:00,  7.24it/s]\n"
          ]
        },
        {
          "name": "stdout",
          "output_type": "stream",
          "text": [
            "Discriminator Loss: 0.6928, Generator Loss: 3.7309\n",
            "Epoch 30/100\n"
          ]
        },
        {
          "name": "stderr",
          "output_type": "stream",
          "text": [
            "Training batches: 100%|██████████| 50/50 [00:07<00:00,  6.51it/s]\n",
            "WARNING:absl:You are saving your model as an HDF5 file via `model.save()` or `keras.saving.save_model(model)`. This file format is considered legacy. We recommend using instead the native Keras format, e.g. `model.save('my_model.keras')` or `keras.saving.save_model(model, 'my_model.keras')`. \n"
          ]
        },
        {
          "name": "stdout",
          "output_type": "stream",
          "text": [
            "Discriminator Loss: 0.6928, Generator Loss: 3.6999\n",
            "Saved checkpoint at epoch 30\n",
            "Epoch 31/100\n"
          ]
        },
        {
          "name": "stderr",
          "output_type": "stream",
          "text": [
            "Training batches: 100%|██████████| 50/50 [00:07<00:00,  6.99it/s]\n"
          ]
        },
        {
          "name": "stdout",
          "output_type": "stream",
          "text": [
            "Discriminator Loss: 0.6928, Generator Loss: 3.6634\n",
            "Epoch 32/100\n"
          ]
        },
        {
          "name": "stderr",
          "output_type": "stream",
          "text": [
            "Training batches: 100%|██████████| 50/50 [00:07<00:00,  6.86it/s]\n"
          ]
        },
        {
          "name": "stdout",
          "output_type": "stream",
          "text": [
            "Discriminator Loss: 0.6928, Generator Loss: 3.6365\n",
            "Epoch 33/100\n"
          ]
        },
        {
          "name": "stderr",
          "output_type": "stream",
          "text": [
            "Training batches: 100%|██████████| 50/50 [00:07<00:00,  6.59it/s]\n"
          ]
        },
        {
          "name": "stdout",
          "output_type": "stream",
          "text": [
            "Discriminator Loss: 0.6928, Generator Loss: 3.6065\n",
            "Epoch 34/100\n"
          ]
        },
        {
          "name": "stderr",
          "output_type": "stream",
          "text": [
            "Training batches: 100%|██████████| 50/50 [00:06<00:00,  7.38it/s]\n"
          ]
        },
        {
          "name": "stdout",
          "output_type": "stream",
          "text": [
            "Discriminator Loss: 0.6928, Generator Loss: 3.5710\n",
            "Epoch 35/100\n"
          ]
        },
        {
          "name": "stderr",
          "output_type": "stream",
          "text": [
            "Training batches: 100%|██████████| 50/50 [00:07<00:00,  6.59it/s]\n"
          ]
        },
        {
          "name": "stdout",
          "output_type": "stream",
          "text": [
            "Discriminator Loss: 0.6928, Generator Loss: 3.5432\n",
            "Epoch 36/100\n"
          ]
        },
        {
          "name": "stderr",
          "output_type": "stream",
          "text": [
            "Training batches: 100%|██████████| 50/50 [00:06<00:00,  7.30it/s]\n"
          ]
        },
        {
          "name": "stdout",
          "output_type": "stream",
          "text": [
            "Discriminator Loss: 0.6928, Generator Loss: 3.5139\n",
            "Epoch 37/100\n"
          ]
        },
        {
          "name": "stderr",
          "output_type": "stream",
          "text": [
            "Training batches: 100%|██████████| 50/50 [00:07<00:00,  6.59it/s]\n"
          ]
        },
        {
          "name": "stdout",
          "output_type": "stream",
          "text": [
            "Discriminator Loss: 0.6928, Generator Loss: 3.4844\n",
            "Epoch 38/100\n"
          ]
        },
        {
          "name": "stderr",
          "output_type": "stream",
          "text": [
            "Training batches: 100%|██████████| 50/50 [00:06<00:00,  7.38it/s]\n"
          ]
        },
        {
          "name": "stdout",
          "output_type": "stream",
          "text": [
            "Discriminator Loss: 0.6928, Generator Loss: 3.4591\n",
            "Epoch 39/100\n"
          ]
        },
        {
          "name": "stderr",
          "output_type": "stream",
          "text": [
            "Training batches: 100%|██████████| 50/50 [00:07<00:00,  6.57it/s]\n"
          ]
        },
        {
          "name": "stdout",
          "output_type": "stream",
          "text": [
            "Discriminator Loss: 0.6928, Generator Loss: 3.4314\n",
            "Epoch 40/100\n"
          ]
        },
        {
          "name": "stderr",
          "output_type": "stream",
          "text": [
            "Training batches: 100%|██████████| 50/50 [00:07<00:00,  7.05it/s]\n",
            "WARNING:absl:You are saving your model as an HDF5 file via `model.save()` or `keras.saving.save_model(model)`. This file format is considered legacy. We recommend using instead the native Keras format, e.g. `model.save('my_model.keras')` or `keras.saving.save_model(model, 'my_model.keras')`. \n"
          ]
        },
        {
          "name": "stdout",
          "output_type": "stream",
          "text": [
            "Discriminator Loss: 0.6928, Generator Loss: 3.4055\n",
            "Saved checkpoint at epoch 40\n",
            "Epoch 41/100\n"
          ]
        },
        {
          "name": "stderr",
          "output_type": "stream",
          "text": [
            "Training batches: 100%|██████████| 50/50 [00:07<00:00,  7.07it/s]\n"
          ]
        },
        {
          "name": "stdout",
          "output_type": "stream",
          "text": [
            "Discriminator Loss: 0.6928, Generator Loss: 3.3790\n",
            "Epoch 42/100\n"
          ]
        },
        {
          "name": "stderr",
          "output_type": "stream",
          "text": [
            "Training batches: 100%|██████████| 50/50 [00:07<00:00,  6.61it/s]\n"
          ]
        },
        {
          "name": "stdout",
          "output_type": "stream",
          "text": [
            "Discriminator Loss: 0.6928, Generator Loss: 3.3539\n",
            "Epoch 43/100\n"
          ]
        },
        {
          "name": "stderr",
          "output_type": "stream",
          "text": [
            "Training batches: 100%|██████████| 50/50 [00:06<00:00,  7.16it/s]\n"
          ]
        },
        {
          "name": "stdout",
          "output_type": "stream",
          "text": [
            "Discriminator Loss: 0.6928, Generator Loss: 3.3287\n",
            "Epoch 44/100\n"
          ]
        },
        {
          "name": "stderr",
          "output_type": "stream",
          "text": [
            "Training batches: 100%|██████████| 50/50 [00:07<00:00,  6.73it/s]\n"
          ]
        },
        {
          "name": "stdout",
          "output_type": "stream",
          "text": [
            "Discriminator Loss: 0.6928, Generator Loss: 3.3042\n",
            "Epoch 45/100\n"
          ]
        },
        {
          "name": "stderr",
          "output_type": "stream",
          "text": [
            "Training batches: 100%|██████████| 50/50 [00:06<00:00,  7.42it/s]\n"
          ]
        },
        {
          "name": "stdout",
          "output_type": "stream",
          "text": [
            "Discriminator Loss: 0.6928, Generator Loss: 3.2812\n",
            "Epoch 46/100\n"
          ]
        },
        {
          "name": "stderr",
          "output_type": "stream",
          "text": [
            "Training batches: 100%|██████████| 50/50 [00:07<00:00,  6.54it/s]\n"
          ]
        },
        {
          "name": "stdout",
          "output_type": "stream",
          "text": [
            "Discriminator Loss: 0.6928, Generator Loss: 3.2553\n",
            "Epoch 47/100\n"
          ]
        },
        {
          "name": "stderr",
          "output_type": "stream",
          "text": [
            "Training batches: 100%|██████████| 50/50 [00:06<00:00,  7.41it/s]\n"
          ]
        },
        {
          "name": "stdout",
          "output_type": "stream",
          "text": [
            "Discriminator Loss: 0.6928, Generator Loss: 3.2333\n",
            "Epoch 48/100\n"
          ]
        },
        {
          "name": "stderr",
          "output_type": "stream",
          "text": [
            "Training batches: 100%|██████████| 50/50 [00:07<00:00,  6.81it/s]\n"
          ]
        },
        {
          "name": "stdout",
          "output_type": "stream",
          "text": [
            "Discriminator Loss: 0.6928, Generator Loss: 3.2084\n",
            "Epoch 49/100\n"
          ]
        },
        {
          "name": "stderr",
          "output_type": "stream",
          "text": [
            "Training batches: 100%|██████████| 50/50 [00:07<00:00,  6.87it/s]\n"
          ]
        },
        {
          "name": "stdout",
          "output_type": "stream",
          "text": [
            "Discriminator Loss: 0.6928, Generator Loss: 3.1850\n",
            "Epoch 50/100\n"
          ]
        },
        {
          "name": "stderr",
          "output_type": "stream",
          "text": [
            "Training batches: 100%|██████████| 50/50 [00:07<00:00,  6.78it/s]\n",
            "WARNING:absl:You are saving your model as an HDF5 file via `model.save()` or `keras.saving.save_model(model)`. This file format is considered legacy. We recommend using instead the native Keras format, e.g. `model.save('my_model.keras')` or `keras.saving.save_model(model, 'my_model.keras')`. \n"
          ]
        },
        {
          "name": "stdout",
          "output_type": "stream",
          "text": [
            "Discriminator Loss: 0.6928, Generator Loss: 3.1609\n",
            "Saved checkpoint at epoch 50\n",
            "Epoch 51/100\n"
          ]
        },
        {
          "name": "stderr",
          "output_type": "stream",
          "text": [
            "Training batches: 100%|██████████| 50/50 [00:07<00:00,  6.51it/s]\n"
          ]
        },
        {
          "name": "stdout",
          "output_type": "stream",
          "text": [
            "Discriminator Loss: 0.6928, Generator Loss: 3.1381\n",
            "Epoch 52/100\n"
          ]
        },
        {
          "name": "stderr",
          "output_type": "stream",
          "text": [
            "Training batches: 100%|██████████| 50/50 [00:06<00:00,  7.53it/s]\n"
          ]
        },
        {
          "name": "stdout",
          "output_type": "stream",
          "text": [
            "Discriminator Loss: 0.6928, Generator Loss: 3.1150\n",
            "Epoch 53/100\n"
          ]
        },
        {
          "name": "stderr",
          "output_type": "stream",
          "text": [
            "Training batches: 100%|██████████| 50/50 [00:07<00:00,  6.63it/s]\n"
          ]
        },
        {
          "name": "stdout",
          "output_type": "stream",
          "text": [
            "Discriminator Loss: 0.6928, Generator Loss: 3.0914\n",
            "Epoch 54/100\n"
          ]
        },
        {
          "name": "stderr",
          "output_type": "stream",
          "text": [
            "Training batches: 100%|██████████| 50/50 [00:06<00:00,  7.39it/s]\n"
          ]
        },
        {
          "name": "stdout",
          "output_type": "stream",
          "text": [
            "Discriminator Loss: 0.6928, Generator Loss: 3.0713\n",
            "Epoch 55/100\n"
          ]
        },
        {
          "name": "stderr",
          "output_type": "stream",
          "text": [
            "Training batches: 100%|██████████| 50/50 [00:07<00:00,  6.51it/s]\n"
          ]
        },
        {
          "name": "stdout",
          "output_type": "stream",
          "text": [
            "Discriminator Loss: 0.6928, Generator Loss: 3.0497\n",
            "Epoch 56/100\n"
          ]
        },
        {
          "name": "stderr",
          "output_type": "stream",
          "text": [
            "Training batches: 100%|██████████| 50/50 [00:06<00:00,  7.39it/s]\n"
          ]
        },
        {
          "name": "stdout",
          "output_type": "stream",
          "text": [
            "Discriminator Loss: 0.6928, Generator Loss: 3.0265\n",
            "Epoch 57/100\n"
          ]
        },
        {
          "name": "stderr",
          "output_type": "stream",
          "text": [
            "Training batches: 100%|██████████| 50/50 [00:07<00:00,  6.56it/s]\n"
          ]
        },
        {
          "name": "stdout",
          "output_type": "stream",
          "text": [
            "Discriminator Loss: 0.6928, Generator Loss: 3.0029\n",
            "Epoch 58/100\n"
          ]
        },
        {
          "name": "stderr",
          "output_type": "stream",
          "text": [
            "Training batches: 100%|██████████| 50/50 [00:07<00:00,  6.70it/s]\n"
          ]
        },
        {
          "name": "stdout",
          "output_type": "stream",
          "text": [
            "Discriminator Loss: 0.6928, Generator Loss: 2.9795\n",
            "Epoch 59/100\n"
          ]
        },
        {
          "name": "stderr",
          "output_type": "stream",
          "text": [
            "Training batches: 100%|██████████| 50/50 [00:06<00:00,  7.20it/s]\n"
          ]
        },
        {
          "name": "stdout",
          "output_type": "stream",
          "text": [
            "Discriminator Loss: 0.6928, Generator Loss: 2.9569\n",
            "Epoch 60/100\n"
          ]
        },
        {
          "name": "stderr",
          "output_type": "stream",
          "text": [
            "Training batches: 100%|██████████| 50/50 [00:07<00:00,  6.75it/s]\n",
            "WARNING:absl:You are saving your model as an HDF5 file via `model.save()` or `keras.saving.save_model(model)`. This file format is considered legacy. We recommend using instead the native Keras format, e.g. `model.save('my_model.keras')` or `keras.saving.save_model(model, 'my_model.keras')`. \n"
          ]
        },
        {
          "name": "stdout",
          "output_type": "stream",
          "text": [
            "Discriminator Loss: 0.6928, Generator Loss: 2.9346\n",
            "Saved checkpoint at epoch 60\n",
            "Epoch 61/100\n"
          ]
        },
        {
          "name": "stderr",
          "output_type": "stream",
          "text": [
            "Training batches: 100%|██████████| 50/50 [00:06<00:00,  7.58it/s]\n"
          ]
        },
        {
          "name": "stdout",
          "output_type": "stream",
          "text": [
            "Discriminator Loss: 0.6928, Generator Loss: 2.9129\n",
            "Epoch 62/100\n"
          ]
        },
        {
          "name": "stderr",
          "output_type": "stream",
          "text": [
            "Training batches: 100%|██████████| 50/50 [00:07<00:00,  6.58it/s]\n"
          ]
        },
        {
          "name": "stdout",
          "output_type": "stream",
          "text": [
            "Discriminator Loss: 0.6928, Generator Loss: 2.8914\n",
            "Epoch 63/100\n"
          ]
        },
        {
          "name": "stderr",
          "output_type": "stream",
          "text": [
            "Training batches: 100%|██████████| 50/50 [00:06<00:00,  7.53it/s]\n"
          ]
        },
        {
          "name": "stdout",
          "output_type": "stream",
          "text": [
            "Discriminator Loss: 0.6928, Generator Loss: 2.8697\n",
            "Epoch 64/100\n"
          ]
        },
        {
          "name": "stderr",
          "output_type": "stream",
          "text": [
            "Training batches: 100%|██████████| 50/50 [00:07<00:00,  6.80it/s]\n"
          ]
        },
        {
          "name": "stdout",
          "output_type": "stream",
          "text": [
            "Discriminator Loss: 0.6928, Generator Loss: 2.8480\n",
            "Epoch 65/100\n"
          ]
        },
        {
          "name": "stderr",
          "output_type": "stream",
          "text": [
            "Training batches: 100%|██████████| 50/50 [00:06<00:00,  7.21it/s]\n"
          ]
        },
        {
          "name": "stdout",
          "output_type": "stream",
          "text": [
            "Discriminator Loss: 0.6928, Generator Loss: 2.8260\n",
            "Epoch 66/100\n"
          ]
        },
        {
          "name": "stderr",
          "output_type": "stream",
          "text": [
            "Training batches: 100%|██████████| 50/50 [00:07<00:00,  6.58it/s]\n"
          ]
        },
        {
          "name": "stdout",
          "output_type": "stream",
          "text": [
            "Discriminator Loss: 0.6928, Generator Loss: 2.8049\n",
            "Epoch 67/100\n"
          ]
        },
        {
          "name": "stderr",
          "output_type": "stream",
          "text": [
            "Training batches: 100%|██████████| 50/50 [00:07<00:00,  6.92it/s]\n"
          ]
        },
        {
          "name": "stdout",
          "output_type": "stream",
          "text": [
            "Discriminator Loss: 0.6928, Generator Loss: 2.7836\n",
            "Epoch 68/100\n"
          ]
        },
        {
          "name": "stderr",
          "output_type": "stream",
          "text": [
            "Training batches: 100%|██████████| 50/50 [00:07<00:00,  7.08it/s]\n"
          ]
        },
        {
          "name": "stdout",
          "output_type": "stream",
          "text": [
            "Discriminator Loss: 0.6928, Generator Loss: 2.7629\n",
            "Epoch 69/100\n"
          ]
        },
        {
          "name": "stderr",
          "output_type": "stream",
          "text": [
            "Training batches: 100%|██████████| 50/50 [00:07<00:00,  6.53it/s]\n"
          ]
        },
        {
          "name": "stdout",
          "output_type": "stream",
          "text": [
            "Discriminator Loss: 0.6928, Generator Loss: 2.7430\n",
            "Epoch 70/100\n"
          ]
        },
        {
          "name": "stderr",
          "output_type": "stream",
          "text": [
            "Training batches: 100%|██████████| 50/50 [00:07<00:00,  6.81it/s]\n",
            "WARNING:absl:You are saving your model as an HDF5 file via `model.save()` or `keras.saving.save_model(model)`. This file format is considered legacy. We recommend using instead the native Keras format, e.g. `model.save('my_model.keras')` or `keras.saving.save_model(model, 'my_model.keras')`. \n"
          ]
        },
        {
          "name": "stdout",
          "output_type": "stream",
          "text": [
            "Discriminator Loss: 0.6928, Generator Loss: 2.7225\n",
            "Saved checkpoint at epoch 70\n",
            "Epoch 71/100\n"
          ]
        },
        {
          "name": "stderr",
          "output_type": "stream",
          "text": [
            "Training batches: 100%|██████████| 50/50 [00:07<00:00,  6.44it/s]\n"
          ]
        },
        {
          "name": "stdout",
          "output_type": "stream",
          "text": [
            "Discriminator Loss: 0.6928, Generator Loss: 2.7032\n",
            "Epoch 72/100\n"
          ]
        },
        {
          "name": "stderr",
          "output_type": "stream",
          "text": [
            "Training batches: 100%|██████████| 50/50 [00:06<00:00,  7.21it/s]\n"
          ]
        },
        {
          "name": "stdout",
          "output_type": "stream",
          "text": [
            "Discriminator Loss: 0.6928, Generator Loss: 2.6844\n",
            "Epoch 73/100\n"
          ]
        },
        {
          "name": "stderr",
          "output_type": "stream",
          "text": [
            "Training batches: 100%|██████████| 50/50 [00:07<00:00,  6.67it/s]\n"
          ]
        },
        {
          "name": "stdout",
          "output_type": "stream",
          "text": [
            "Discriminator Loss: 0.6928, Generator Loss: 2.6655\n",
            "Epoch 74/100\n"
          ]
        },
        {
          "name": "stderr",
          "output_type": "stream",
          "text": [
            "Training batches: 100%|██████████| 50/50 [00:07<00:00,  6.84it/s]\n"
          ]
        },
        {
          "name": "stdout",
          "output_type": "stream",
          "text": [
            "Discriminator Loss: 0.6928, Generator Loss: 2.6473\n",
            "Epoch 75/100\n"
          ]
        },
        {
          "name": "stderr",
          "output_type": "stream",
          "text": [
            "Training batches: 100%|██████████| 50/50 [00:07<00:00,  7.08it/s]\n"
          ]
        },
        {
          "name": "stdout",
          "output_type": "stream",
          "text": [
            "Discriminator Loss: 0.6928, Generator Loss: 2.6288\n",
            "Epoch 76/100\n"
          ]
        },
        {
          "name": "stderr",
          "output_type": "stream",
          "text": [
            "Training batches: 100%|██████████| 50/50 [00:07<00:00,  6.62it/s]\n"
          ]
        },
        {
          "name": "stdout",
          "output_type": "stream",
          "text": [
            "Discriminator Loss: 0.6928, Generator Loss: 2.6111\n",
            "Epoch 77/100\n"
          ]
        },
        {
          "name": "stderr",
          "output_type": "stream",
          "text": [
            "Training batches: 100%|██████████| 50/50 [00:06<00:00,  7.40it/s]\n"
          ]
        },
        {
          "name": "stdout",
          "output_type": "stream",
          "text": [
            "Discriminator Loss: 0.6928, Generator Loss: 2.5936\n",
            "Epoch 78/100\n"
          ]
        },
        {
          "name": "stderr",
          "output_type": "stream",
          "text": [
            "Training batches: 100%|██████████| 50/50 [00:07<00:00,  6.57it/s]\n"
          ]
        },
        {
          "name": "stdout",
          "output_type": "stream",
          "text": [
            "Discriminator Loss: 0.6928, Generator Loss: 2.5767\n",
            "Epoch 79/100\n"
          ]
        },
        {
          "name": "stderr",
          "output_type": "stream",
          "text": [
            "Training batches: 100%|██████████| 50/50 [00:06<00:00,  7.25it/s]\n"
          ]
        },
        {
          "name": "stdout",
          "output_type": "stream",
          "text": [
            "Discriminator Loss: 0.6928, Generator Loss: 2.5595\n",
            "Epoch 80/100\n"
          ]
        },
        {
          "name": "stderr",
          "output_type": "stream",
          "text": [
            "Training batches: 100%|██████████| 50/50 [00:07<00:00,  6.53it/s]\n",
            "WARNING:absl:You are saving your model as an HDF5 file via `model.save()` or `keras.saving.save_model(model)`. This file format is considered legacy. We recommend using instead the native Keras format, e.g. `model.save('my_model.keras')` or `keras.saving.save_model(model, 'my_model.keras')`. \n"
          ]
        },
        {
          "name": "stdout",
          "output_type": "stream",
          "text": [
            "Discriminator Loss: 0.6928, Generator Loss: 2.5424\n",
            "Saved checkpoint at epoch 80\n",
            "Epoch 81/100\n"
          ]
        },
        {
          "name": "stderr",
          "output_type": "stream",
          "text": [
            "Training batches: 100%|██████████| 50/50 [00:07<00:00,  7.01it/s]\n"
          ]
        },
        {
          "name": "stdout",
          "output_type": "stream",
          "text": [
            "Discriminator Loss: 0.6928, Generator Loss: 2.5256\n",
            "Epoch 82/100\n"
          ]
        },
        {
          "name": "stderr",
          "output_type": "stream",
          "text": [
            "Training batches: 100%|██████████| 50/50 [00:07<00:00,  6.74it/s]\n"
          ]
        },
        {
          "name": "stdout",
          "output_type": "stream",
          "text": [
            "Discriminator Loss: 0.6928, Generator Loss: 2.5089\n",
            "Epoch 83/100\n"
          ]
        },
        {
          "name": "stderr",
          "output_type": "stream",
          "text": [
            "Training batches: 100%|██████████| 50/50 [00:07<00:00,  6.69it/s]\n"
          ]
        },
        {
          "name": "stdout",
          "output_type": "stream",
          "text": [
            "Discriminator Loss: 0.6927, Generator Loss: 2.4930\n",
            "Epoch 84/100\n"
          ]
        },
        {
          "name": "stderr",
          "output_type": "stream",
          "text": [
            "Training batches: 100%|██████████| 50/50 [00:06<00:00,  7.38it/s]\n"
          ]
        },
        {
          "name": "stdout",
          "output_type": "stream",
          "text": [
            "Discriminator Loss: 0.6927, Generator Loss: 2.4768\n",
            "Epoch 85/100\n"
          ]
        },
        {
          "name": "stderr",
          "output_type": "stream",
          "text": [
            "Training batches: 100%|██████████| 50/50 [00:07<00:00,  6.69it/s]\n"
          ]
        },
        {
          "name": "stdout",
          "output_type": "stream",
          "text": [
            "Discriminator Loss: 0.6927, Generator Loss: 2.4610\n",
            "Epoch 86/100\n"
          ]
        },
        {
          "name": "stderr",
          "output_type": "stream",
          "text": [
            "Training batches: 100%|██████████| 50/50 [00:06<00:00,  7.53it/s]\n"
          ]
        },
        {
          "name": "stdout",
          "output_type": "stream",
          "text": [
            "Discriminator Loss: 0.6927, Generator Loss: 2.4452\n",
            "Epoch 87/100\n"
          ]
        },
        {
          "name": "stderr",
          "output_type": "stream",
          "text": [
            "Training batches: 100%|██████████| 50/50 [00:07<00:00,  6.62it/s]\n"
          ]
        },
        {
          "name": "stdout",
          "output_type": "stream",
          "text": [
            "Discriminator Loss: 0.6927, Generator Loss: 2.4299\n",
            "Epoch 88/100\n"
          ]
        },
        {
          "name": "stderr",
          "output_type": "stream",
          "text": [
            "Training batches: 100%|██████████| 50/50 [00:06<00:00,  7.39it/s]\n"
          ]
        },
        {
          "name": "stdout",
          "output_type": "stream",
          "text": [
            "Discriminator Loss: 0.6927, Generator Loss: 2.4149\n",
            "Epoch 89/100\n"
          ]
        },
        {
          "name": "stderr",
          "output_type": "stream",
          "text": [
            "Training batches: 100%|██████████| 50/50 [00:07<00:00,  6.51it/s]\n"
          ]
        },
        {
          "name": "stdout",
          "output_type": "stream",
          "text": [
            "Discriminator Loss: 0.6927, Generator Loss: 2.4005\n",
            "Epoch 90/100\n"
          ]
        },
        {
          "name": "stderr",
          "output_type": "stream",
          "text": [
            "Training batches: 100%|██████████| 50/50 [00:07<00:00,  7.07it/s]\n",
            "WARNING:absl:You are saving your model as an HDF5 file via `model.save()` or `keras.saving.save_model(model)`. This file format is considered legacy. We recommend using instead the native Keras format, e.g. `model.save('my_model.keras')` or `keras.saving.save_model(model, 'my_model.keras')`. \n"
          ]
        },
        {
          "name": "stdout",
          "output_type": "stream",
          "text": [
            "Discriminator Loss: 0.6927, Generator Loss: 2.3857\n",
            "Saved checkpoint at epoch 90\n",
            "Epoch 91/100\n"
          ]
        },
        {
          "name": "stderr",
          "output_type": "stream",
          "text": [
            "Training batches: 100%|██████████| 50/50 [00:07<00:00,  6.64it/s]\n"
          ]
        },
        {
          "name": "stdout",
          "output_type": "stream",
          "text": [
            "Discriminator Loss: 0.6927, Generator Loss: 2.3709\n",
            "Epoch 92/100\n"
          ]
        },
        {
          "name": "stderr",
          "output_type": "stream",
          "text": [
            "Training batches: 100%|██████████| 50/50 [00:07<00:00,  6.43it/s]\n"
          ]
        },
        {
          "name": "stdout",
          "output_type": "stream",
          "text": [
            "Discriminator Loss: 0.6927, Generator Loss: 2.3563\n",
            "Epoch 93/100\n"
          ]
        },
        {
          "name": "stderr",
          "output_type": "stream",
          "text": [
            "Training batches: 100%|██████████| 50/50 [00:06<00:00,  7.21it/s]\n"
          ]
        },
        {
          "name": "stdout",
          "output_type": "stream",
          "text": [
            "Discriminator Loss: 0.6927, Generator Loss: 2.3428\n",
            "Epoch 94/100\n"
          ]
        },
        {
          "name": "stderr",
          "output_type": "stream",
          "text": [
            "Training batches: 100%|██████████| 50/50 [00:07<00:00,  6.59it/s]\n"
          ]
        },
        {
          "name": "stdout",
          "output_type": "stream",
          "text": [
            "Discriminator Loss: 0.6927, Generator Loss: 2.3297\n",
            "Epoch 95/100\n"
          ]
        },
        {
          "name": "stderr",
          "output_type": "stream",
          "text": [
            "Training batches: 100%|██████████| 50/50 [00:07<00:00,  7.09it/s]\n"
          ]
        },
        {
          "name": "stdout",
          "output_type": "stream",
          "text": [
            "Discriminator Loss: 0.6927, Generator Loss: 2.3160\n",
            "Epoch 96/100\n"
          ]
        },
        {
          "name": "stderr",
          "output_type": "stream",
          "text": [
            "Training batches: 100%|██████████| 50/50 [00:07<00:00,  6.59it/s]\n"
          ]
        },
        {
          "name": "stdout",
          "output_type": "stream",
          "text": [
            "Discriminator Loss: 0.6927, Generator Loss: 2.3028\n",
            "Epoch 97/100\n"
          ]
        },
        {
          "name": "stderr",
          "output_type": "stream",
          "text": [
            "Training batches: 100%|██████████| 50/50 [00:07<00:00,  7.02it/s]\n"
          ]
        },
        {
          "name": "stdout",
          "output_type": "stream",
          "text": [
            "Discriminator Loss: 0.6927, Generator Loss: 2.2895\n",
            "Epoch 98/100\n"
          ]
        },
        {
          "name": "stderr",
          "output_type": "stream",
          "text": [
            "Training batches: 100%|██████████| 50/50 [00:07<00:00,  6.70it/s]\n"
          ]
        },
        {
          "name": "stdout",
          "output_type": "stream",
          "text": [
            "Discriminator Loss: 0.6927, Generator Loss: 2.2765\n",
            "Epoch 99/100\n"
          ]
        },
        {
          "name": "stderr",
          "output_type": "stream",
          "text": [
            "Training batches: 100%|██████████| 50/50 [00:07<00:00,  6.57it/s]\n"
          ]
        },
        {
          "name": "stdout",
          "output_type": "stream",
          "text": [
            "Discriminator Loss: 0.6927, Generator Loss: 2.2635\n",
            "Epoch 100/100\n"
          ]
        },
        {
          "name": "stderr",
          "output_type": "stream",
          "text": [
            "Training batches: 100%|██████████| 50/50 [00:06<00:00,  7.30it/s]\n",
            "WARNING:absl:You are saving your model as an HDF5 file via `model.save()` or `keras.saving.save_model(model)`. This file format is considered legacy. We recommend using instead the native Keras format, e.g. `model.save('my_model.keras')` or `keras.saving.save_model(model, 'my_model.keras')`. \n"
          ]
        },
        {
          "name": "stdout",
          "output_type": "stream",
          "text": [
            "Discriminator Loss: 0.6927, Generator Loss: 2.2509\n",
            "Saved checkpoint at epoch 100\n",
            "\u001b[1m1/1\u001b[0m \u001b[32m━━━━━━━━━━━━━━━━━━━━\u001b[0m\u001b[37m\u001b[0m \u001b[1m2s\u001b[0m 2s/step\n"
          ]
        },
        {
          "name": "stderr",
          "output_type": "stream",
          "text": [
            "WARNING:absl:You are saving your model as an HDF5 file via `model.save()` or `keras.saving.save_model(model)`. This file format is considered legacy. We recommend using instead the native Keras format, e.g. `model.save('my_model.keras')` or `keras.saving.save_model(model, 'my_model.keras')`. \n"
          ]
        }
      ],
      "source": [
        "import tensorflow as tf\n",
        "import numpy as np\n",
        "import matplotlib.pyplot as plt\n",
        "from tensorflow.keras import layers, models\n",
        "import os\n",
        "import sys\n",
        "from PIL import Image\n",
        "from tqdm import tqdm\n",
        "\n",
        "# Suppress oneDNN warnings\n",
        "os.environ['TF_ENABLE_ONEDNN_OPTS'] = '0'\n",
        "\n",
        "# Check TensorFlow version and GPU availability\n",
        "print(f\"TensorFlow Version: {tf.__version__}\")\n",
        "print(f\"GPU Available: {tf.config.list_physical_devices('GPU')}\")\n",
        "\n",
        "# Check TensorFlow version\n",
        "if int(tf.__version__.split('.')[0]) < 2 or int(tf.__version__.split('.')[1]) < 17:\n",
        "    print(\"Error: TensorFlow 2.17.0 or higher is required.\")\n",
        "    sys.exit(1)\n",
        "\n",
        "# Load and preprocess images from custom dataset\n",
        "def load_and_preprocess_data(dataset_dir='/content/drive/MyDrive/Custom Dataset /Images', img_size=(128, 128), max_images=1000):\n",
        "    dataset_dir = os.path.normpath(dataset_dir)\n",
        "    if not os.path.exists(dataset_dir):\n",
        "        print(f\"Error: Dataset directory {dataset_dir} does not exist.\")\n",
        "        sys.exit(1)\n",
        "\n",
        "    # Get list of image files (supporting common formats)\n",
        "    image_extensions = ('.jpg', '.jpeg', '.png', '.bmp')\n",
        "    image_files = [f for f in os.listdir(dataset_dir) if f.lower().endswith(image_extensions)]\n",
        "\n",
        "    if not image_files:\n",
        "        print(f\"Error: No images found in {dataset_dir}.\")\n",
        "        sys.exit(1)\n",
        "\n",
        "    # Limit to max_images\n",
        "    image_files = image_files[:min(max_images, len(image_files))]\n",
        "    print(f\"Found {len(image_files)} images in {dataset_dir}\")\n",
        "\n",
        "    images_rgb = []\n",
        "    images_gray = []\n",
        "    skipped_images = 0\n",
        "\n",
        "    print(f\"Loading and preprocessing {len(image_files)} images...\")\n",
        "    for img_file in tqdm(image_files, desc=\"Processing images\"):\n",
        "        img_path = os.path.join(dataset_dir, img_file)\n",
        "\n",
        "        try:\n",
        "            img = Image.open(img_path).convert('RGB')\n",
        "            img = img.resize(img_size, Image.Resampling.LANCZOS)\n",
        "            img_array = np.array(img).astype('float32') / 127.5 - 1.0\n",
        "\n",
        "            img_gray = tf.image.rgb_to_grayscale(img_array).numpy()\n",
        "\n",
        "            images_rgb.append(img_array)\n",
        "            images_gray.append(img_gray)\n",
        "        except Exception as e:\n",
        "            print(f\"Error processing image {img_path}: {e}\")\n",
        "            skipped_images += 1\n",
        "            continue\n",
        "\n",
        "    print(f\"Processed {len(images_rgb)} images successfully, skipped {skipped_images} images\")\n",
        "\n",
        "    if not images_rgb:\n",
        "        print(\"Error: No images were loaded successfully.\")\n",
        "        sys.exit(1)\n",
        "\n",
        "    images_rgb = np.array(images_rgb)\n",
        "    images_gray = np.array(images_gray)\n",
        "\n",
        "    split = int(0.8 * len(images_rgb))\n",
        "    x_train_rgb, x_test_rgb = images_rgb[:split], images_rgb[split:]\n",
        "    x_train_gray, x_test_gray = images_gray[:split], images_gray[split:]\n",
        "\n",
        "    return (x_train_gray, x_train_rgb), (x_test_gray, x_test_rgb)\n",
        "\n",
        "# Build the generator (U-Net architecture)\n",
        "def build_generator():\n",
        "    inputs = layers.Input(shape=(128, 128, 1))\n",
        "\n",
        "    e1 = layers.Conv2D(64, (4, 4), strides=2, padding='same', activation='relu')(inputs)\n",
        "    e2 = layers.Conv2D(128, (4, 4), strides=2, padding='same', activation='relu')(e1)\n",
        "    e3 = layers.Conv2D(256, (4, 4), strides=2, padding='same', activation='relu')(e2)\n",
        "    e4 = layers.Conv2D(512, (4, 4), strides=2, padding='same', activation='relu')(e3)\n",
        "\n",
        "    d1 = layers.Conv2DTranspose(256, (4, 4), strides=2, padding='same', activation='relu')(e4)\n",
        "    d1 = layers.Concatenate()([d1, e3])\n",
        "    d2 = layers.Conv2DTranspose(128, (4, 4), strides=2, padding='same', activation='relu')(d1)\n",
        "    d2 = layers.Concatenate()([d2, e2])\n",
        "    d3 = layers.Conv2DTranspose(64, (4, 4), strides=2, padding='same', activation='relu')(d2)\n",
        "    d3 = layers.Concatenate()([d3, e1])\n",
        "    outputs = layers.Conv2DTranspose(3, (4, 4), strides=2, padding='same', activation='tanh')(d3)\n",
        "\n",
        "    return models.Model(inputs, outputs, name='generator')\n",
        "\n",
        "# Build the discriminator (PatchGAN) - Remove ReLU before sigmoid\n",
        "def build_discriminator():\n",
        "    input_gray = layers.Input(shape=(128, 128, 1))\n",
        "    input_rgb = layers.Input(shape=(128, 128, 3))\n",
        "\n",
        "    combined = layers.Concatenate()([input_gray, input_rgb])\n",
        "\n",
        "    x = layers.Conv2D(64, (4, 4), strides=2, padding='same', activation='relu')(combined)\n",
        "    x = layers.Conv2D(128, (4, 4), strides=2, padding='same', activation='relu')(x)\n",
        "    x = layers.Conv2D(256, (4, 4), strides=2, padding='same', activation='relu')(x)\n",
        "    x = layers.Conv2D(512, (4, 4), strides=2, padding='same', activation='relu')(x)\n",
        "    outputs = layers.Conv2D(1, (4, 4), padding='same', activation='sigmoid')(x)  # No ReLU before sigmoid\n",
        "\n",
        "    return models.Model([input_gray, input_rgb], outputs, name='discriminator')\n",
        "\n",
        "# Define the GAN model\n",
        "def build_gan(generator, discriminator):\n",
        "    discriminator.trainable = False\n",
        "\n",
        "    gray_input = layers.Input(shape=(128, 128, 1))\n",
        "    generated_rgb = generator(gray_input)\n",
        "    disc_output = discriminator([gray_input, generated_rgb])\n",
        "\n",
        "    gan = models.Model(gray_input, [generated_rgb, disc_output], name='gan')\n",
        "    gan.compile(\n",
        "        optimizer=tf.keras.optimizers.Adam(learning_rate=0.0002, beta_1=0.5),\n",
        "        loss=['mse', 'binary_crossentropy'],\n",
        "        loss_weights=[100.0, 1.0]\n",
        "    )\n",
        "    return gan\n",
        "\n",
        "# Train the GAN with checkpoints\n",
        "def train_gan(generator, discriminator, gan, x_train_gray, x_train_rgb, x_test_gray, x_test_rgb, epochs=100, batch_size=16):\n",
        "    batch_count = x_train_gray.shape[0] // batch_size\n",
        "    d_loss_history = []\n",
        "    g_loss_history = []\n",
        "\n",
        "    # Check trainable weights\n",
        "    print(f\"Generator trainable weights: {len(generator.trainable_weights)}\")\n",
        "    print(f\"Discriminator trainable weights: {len(discriminator.trainable_weights)}\")\n",
        "    print(f\"GAN trainable weights: {len(gan.trainable_weights)}\")\n",
        "\n",
        "    for epoch in range(epochs):\n",
        "        print(f'Epoch {epoch + 1}/{epochs}')\n",
        "        for _ in tqdm(range(batch_count), desc=\"Training batches\"):\n",
        "            idx = np.random.randint(0, x_train_gray.shape[0], batch_size)\n",
        "            gray_batch = x_train_gray[idx]\n",
        "            rgb_batch = x_train_rgb[idx]\n",
        "\n",
        "            generated_rgb = generator.predict(gray_batch, verbose=0)\n",
        "\n",
        "            real_labels = np.ones((batch_size, 8, 8, 1)) * 0.9\n",
        "            fake_labels = np.zeros((batch_size, 8, 8, 1))\n",
        "\n",
        "            d_loss_real = discriminator.train_on_batch([gray_batch, rgb_batch], real_labels)\n",
        "            d_loss_fake = discriminator.train_on_batch([gray_batch, generated_rgb], fake_labels)\n",
        "            d_loss = 0.5 * np.add(d_loss_real, d_loss_fake)\n",
        "\n",
        "            g_labels = np.ones((batch_size, 8, 8, 1))\n",
        "            g_loss = gan.train_on_batch(gray_batch, [rgb_batch, g_labels])\n",
        "\n",
        "        d_loss_history.append(d_loss)\n",
        "        g_loss_history.append(g_loss)\n",
        "\n",
        "        # Handle scalar or list loss outputs\n",
        "        d_loss_val = d_loss if isinstance(d_loss, (float, np.float32)) else d_loss[0]\n",
        "        g_loss_val = g_loss if isinstance(g_loss, (float, np.float32)) else g_loss[0]\n",
        "        print(f'Discriminator Loss: {d_loss_val:.4f}, Generator Loss: {g_loss_val:.4f}')\n",
        "\n",
        "        # Save checkpoint every 10 epochs\n",
        "        if (epoch + 1) % 10 == 0:\n",
        "            generator.save(f'/content/drive/MyDrive/generator_epoch_{epoch+1}.h5')\n",
        "            print(f\"Saved checkpoint at epoch {epoch+1}\")\n",
        "\n",
        "    return d_loss_history, g_loss_history\n",
        "\n",
        "# Visualize results\n",
        "def visualize_results(generator, x_test_gray, x_test_rgb, num_samples=5):\n",
        "    predictions = generator.predict(x_test_gray[:num_samples])\n",
        "\n",
        "    plt.figure(figsize=(15, 5))\n",
        "    for i in range(num_samples):\n",
        "        plt.subplot(3, num_samples, i + 1)\n",
        "        plt.imshow((x_test_gray[i] + 1) / 2, cmap='gray')\n",
        "        plt.title('Grayscale')\n",
        "        plt.axis('off')\n",
        "\n",
        "        plt.subplot(3, num_samples, i + 1 + num_samples)\n",
        "        plt.imshow((predictions[i] + 1) / 2)\n",
        "        plt.title('Predicted')\n",
        "        plt.axis('off')\n",
        "\n",
        "        plt.subplot(3, num_samples, i + 1 + 2 * num_samples)\n",
        "        plt.imshow((x_test_rgb[i] + 1) / 2)\n",
        "        plt.title('Ground Truth')\n",
        "        plt.axis('off')\n",
        "\n",
        "    plt.savefig('/content/drive/MyDrive/colorization_custom_gan_results.png')\n",
        "    plt.close()\n",
        "\n",
        "# Main function\n",
        "def main():\n",
        "    # Load data from custom dataset\n",
        "    (x_train_gray, x_train_rgb), (x_test_gray, x_test_rgb) = load_and_preprocess_data()\n",
        "\n",
        "    generator = build_generator()\n",
        "    discriminator = build_discriminator()\n",
        "    discriminator.compile(\n",
        "        optimizer=tf.keras.optimizers.Adam(learning_rate=0.0002, beta_1=0.5),\n",
        "        loss='binary_crossentropy'\n",
        "    )\n",
        "    gan = build_gan(generator, discriminator)\n",
        "\n",
        "    generator.summary()\n",
        "    discriminator.summary()\n",
        "    gan.summary()\n",
        "\n",
        "    d_loss_history, g_loss_history = train_gan(\n",
        "        generator, discriminator, gan,\n",
        "        x_train_gray, x_train_rgb, x_test_gray, x_test_rgb\n",
        "    )\n",
        "\n",
        "    visualize_results(generator, x_test_gray, x_test_rgb)\n",
        "\n",
        "    generator.save('/content/drive/MyDrive/grayscale_to_color_custom_gan_generator.h5')\n",
        "\n",
        "if __name__ == '__main__':\n",
        "    main()"
      ]
    },
    {
      "cell_type": "code",
      "execution_count": 15,
      "metadata": {
        "colab": {
          "base_uri": "https://localhost:8080/",
          "height": 535
        },
        "id": "S0OPi-5SRJQC",
        "outputId": "6960fffc-c943-4999-c9e5-df30206bb49c"
      },
      "outputs": [
        {
          "name": "stderr",
          "output_type": "stream",
          "text": [
            "WARNING:absl:No training configuration found in the save file, so the model was *not* compiled. Compile it manually.\n"
          ]
        },
        {
          "name": "stdout",
          "output_type": "stream",
          "text": [
            "Model loaded from /content/drive/MyDrive/grayscale_to_color_custom_gan_generator.h5\n",
            "Input image shape: (1, 128, 128, 1)\n"
          ]
        },
        {
          "name": "stderr",
          "output_type": "stream",
          "text": [
            "WARNING:tensorflow:6 out of the last 6 calls to <function TensorFlowTrainer.make_predict_function.<locals>.one_step_on_data_distributed at 0x7b541592b100> triggered tf.function retracing. Tracing is expensive and the excessive number of tracings could be due to (1) creating @tf.function repeatedly in a loop, (2) passing tensors with different shapes, (3) passing Python objects instead of tensors. For (1), please define your @tf.function outside of the loop. For (2), @tf.function has reduce_retracing=True option that can avoid unnecessary retracing. For (3), please refer to https://www.tensorflow.org/guide/function#controlling_retracing and https://www.tensorflow.org/api_docs/python/tf/function for  more details.\n"
          ]
        },
        {
          "name": "stdout",
          "output_type": "stream",
          "text": [
            "\u001b[1m1/1\u001b[0m \u001b[32m━━━━━━━━━━━━━━━━━━━━\u001b[0m\u001b[37m\u001b[0m \u001b[1m0s\u001b[0m 319ms/step\n"
          ]
        },
        {
          "data": {
            "image/png": "[encoded data removed]",
            "text/plain": [
              "<Figure size 1000x500 with 2 Axes>"
            ]
          },
          "metadata": {},
          "output_type": "display_data"
        },
        {
          "name": "stdout",
          "output_type": "stream",
          "text": [
            "Result saved to /content/drive/MyDrive/colorization_test_result.png\n"
          ]
        }
      ],
      "source": [
        "import tensorflow as tf\n",
        "import numpy as np\n",
        "from PIL import Image\n",
        "import matplotlib.pyplot as plt\n",
        "import os\n",
        "\n",
        "# Load the trained generator model\n",
        "model_path = \"/content/drive/MyDrive/grayscale_to_color_custom_gan_generator.h5\"\n",
        "generator = tf.keras.models.load_model(model_path)\n",
        "print(f\"Model loaded from {model_path}\")\n",
        "\n",
        "# Define preprocessing function\n",
        "def preprocess_image(image_path, img_size=(128, 128)):\n",
        "    img = Image.open(image_path).convert('L')  # Convert to grayscale\n",
        "    img = img.resize(img_size, Image.Resampling.LANCZOS)\n",
        "    img_array = np.array(img).astype('float32') / 127.5 - 1.0\n",
        "    img_array = np.expand_dims(img_array, axis=-1)  # Add channel dimension\n",
        "    img_array = np.expand_dims(img_array, axis=0)   # Add batch dimension\n",
        "    return img_array\n",
        "\n",
        "# Define postprocessing function\n",
        "def postprocess_image(img_array):\n",
        "    img_array = (img_array + 1) / 2.0  # Rescale to [0, 1]\n",
        "    img_array = np.clip(img_array, 0, 1)  # Ensure values are in valid range\n",
        "    return (img_array * 255).astype(np.uint8)\n",
        "\n",
        "# Load and preprocess the custom grayscale image\n",
        "input_image_path = '/content/drive/MyDrive/test images /image0066.jpg'  # Update this path\n",
        "if not os.path.exists(input_image_path):\n",
        "    print(f\"Error: Input image {input_image_path} does not exist.\")\n",
        "else:\n",
        "    input_gray = preprocess_image(input_image_path)\n",
        "    print(f\"Input image shape: {input_gray.shape}\")\n",
        "\n",
        "    # Generate colorized image\n",
        "    generated_rgb = generator.predict(input_gray)\n",
        "    generated_rgb = postprocess_image(generated_rgb)\n",
        "\n",
        "    # Load the original grayscale image for comparison\n",
        "    original_gray = Image.open(input_image_path).convert('L')\n",
        "    original_gray = original_gray.resize((128, 128), Image.Resampling.LANCZOS)\n",
        "    original_gray = np.array(original_gray).astype('float32') / 255.0\n",
        "\n",
        "    # Visualize results\n",
        "    plt.figure(figsize=(10, 5))\n",
        "\n",
        "    plt.subplot(1, 2, 1)\n",
        "    plt.imshow(original_gray, cmap='gray')\n",
        "    plt.title('Input Grayscale Image')\n",
        "    plt.axis('off')\n",
        "\n",
        "    plt.subplot(1, 2, 2)\n",
        "    plt.imshow(generated_rgb[0])\n",
        "    plt.title('Generated Color Image')\n",
        "    plt.axis('off')\n",
        "\n",
        "    plt.savefig('/content/drive/MyDrive/colorization_test_result.png')\n",
        "    plt.show()\n",
        "\n",
        "    print(\"Result saved to /content/drive/MyDrive/colorization_test_result.png\")"
      ]
    }
  ],
  "metadata": {
    "colab": {
      "provenance": []
    },
    "kernelspec": {
      "display_name": "Python 3",
      "name": "python3"
    },
    "language_info": {
      "codemirror_mode": {
        "name": "ipython",
        "version": 3
      },
      "file_extension": ".py",
      "mimetype": "text/x-python",
      "name": "python",
      "nbconvert_exporter": "python",
      "pygments_lexer": "ipython3",
      "version": "3.11.4"
    }
  },
  "nbformat": 4,
  "nbformat_minor": 0
}
